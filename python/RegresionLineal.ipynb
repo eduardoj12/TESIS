{
  "nbformat": 4,
  "nbformat_minor": 0,
  "metadata": {
    "colab": {
      "provenance": []
    },
    "kernelspec": {
      "name": "python3",
      "display_name": "Python 3"
    },
    "language_info": {
      "name": "python"
    }
  },
  "cells": [
    {
      "cell_type": "code",
      "execution_count": null,
      "metadata": {
        "colab": {
          "base_uri": "https://localhost:8080/"
        },
        "id": "qPcH4-RUC5I4",
        "outputId": "4ebb2c54-83b3-45b2-e3ad-2d5074d88a93"
      },
      "outputs": [
        {
          "output_type": "stream",
          "name": "stdout",
          "text": [
            "Drive already mounted at /content/drive; to attempt to forcibly remount, call drive.mount(\"/content/drive\", force_remount=True).\n"
          ]
        }
      ],
      "source": [
        "import pandas as pd\n",
        "from sklearn.model_selection import train_test_split\n",
        "from sklearn.metrics import mean_squared_error, r2_score, mean_absolute_error\n",
        "from sklearn.linear_model import LinearRegression\n",
        "import tensorflow as tf\n",
        "import numpy as np\n",
        "\n",
        "from google.colab import drive\n",
        "drive.mount('/content/drive')\n",
        "# Cargar tu conjunto de datos\n",
        "data = pd.read_csv(\"/content/drive/My Drive/Tesis/Dataset/nuevo_dataset_prueba.csv\")"
      ]
    },
    {
      "cell_type": "code",
      "source": [
        "# Crear el DataFrame Referencia\n",
        "y = data['Humedad']\n",
        "#y = data['CSS BRIX°']\n",
        "X =data[['NIR_R', 'NIR_S', 'NIR_T', 'NIR_U', 'NIR_V', 'NIR_W', 'Vis_Violet', 'Vis_Blue', 'Vis_Green', 'Vis_Yellow', 'Vis_Orange', 'Vis_Red']]\n"
      ],
      "metadata": {
        "id": "-I-Q8cTSdbTw"
      },
      "execution_count": null,
      "outputs": []
    },
    {
      "cell_type": "markdown",
      "source": [
        "# Para Contenido de Agua"
      ],
      "metadata": {
        "id": "nqTF5gpzeCnz"
      }
    },
    {
      "cell_type": "code",
      "source": [
        "# Dividir datos en conjuntos de entrenamiento y prueba (80% entrenamiento, 20% prueba)\n",
        "X_train, X_test, y_train, y_test = train_test_split(X, y, test_size=0.2, random_state=42)\n",
        "\n",
        "# Definir y entrenar modelo de regresión lineal estándar\n",
        "model= LinearRegression()\n",
        "model.fit(X_train, y_train)\n"
      ],
      "metadata": {
        "colab": {
          "base_uri": "https://localhost:8080/",
          "height": 74
        },
        "id": "neobblUPDca_",
        "outputId": "ed4502c6-c2d1-4e94-9dea-1e4d2113bfb8"
      },
      "execution_count": null,
      "outputs": [
        {
          "output_type": "execute_result",
          "data": {
            "text/plain": [
              "LinearRegression()"
            ],
            "text/html": [
              "<style>#sk-container-id-1 {color: black;background-color: white;}#sk-container-id-1 pre{padding: 0;}#sk-container-id-1 div.sk-toggleable {background-color: white;}#sk-container-id-1 label.sk-toggleable__label {cursor: pointer;display: block;width: 100%;margin-bottom: 0;padding: 0.3em;box-sizing: border-box;text-align: center;}#sk-container-id-1 label.sk-toggleable__label-arrow:before {content: \"▸\";float: left;margin-right: 0.25em;color: #696969;}#sk-container-id-1 label.sk-toggleable__label-arrow:hover:before {color: black;}#sk-container-id-1 div.sk-estimator:hover label.sk-toggleable__label-arrow:before {color: black;}#sk-container-id-1 div.sk-toggleable__content {max-height: 0;max-width: 0;overflow: hidden;text-align: left;background-color: #f0f8ff;}#sk-container-id-1 div.sk-toggleable__content pre {margin: 0.2em;color: black;border-radius: 0.25em;background-color: #f0f8ff;}#sk-container-id-1 input.sk-toggleable__control:checked~div.sk-toggleable__content {max-height: 200px;max-width: 100%;overflow: auto;}#sk-container-id-1 input.sk-toggleable__control:checked~label.sk-toggleable__label-arrow:before {content: \"▾\";}#sk-container-id-1 div.sk-estimator input.sk-toggleable__control:checked~label.sk-toggleable__label {background-color: #d4ebff;}#sk-container-id-1 div.sk-label input.sk-toggleable__control:checked~label.sk-toggleable__label {background-color: #d4ebff;}#sk-container-id-1 input.sk-hidden--visually {border: 0;clip: rect(1px 1px 1px 1px);clip: rect(1px, 1px, 1px, 1px);height: 1px;margin: -1px;overflow: hidden;padding: 0;position: absolute;width: 1px;}#sk-container-id-1 div.sk-estimator {font-family: monospace;background-color: #f0f8ff;border: 1px dotted black;border-radius: 0.25em;box-sizing: border-box;margin-bottom: 0.5em;}#sk-container-id-1 div.sk-estimator:hover {background-color: #d4ebff;}#sk-container-id-1 div.sk-parallel-item::after {content: \"\";width: 100%;border-bottom: 1px solid gray;flex-grow: 1;}#sk-container-id-1 div.sk-label:hover label.sk-toggleable__label {background-color: #d4ebff;}#sk-container-id-1 div.sk-serial::before {content: \"\";position: absolute;border-left: 1px solid gray;box-sizing: border-box;top: 0;bottom: 0;left: 50%;z-index: 0;}#sk-container-id-1 div.sk-serial {display: flex;flex-direction: column;align-items: center;background-color: white;padding-right: 0.2em;padding-left: 0.2em;position: relative;}#sk-container-id-1 div.sk-item {position: relative;z-index: 1;}#sk-container-id-1 div.sk-parallel {display: flex;align-items: stretch;justify-content: center;background-color: white;position: relative;}#sk-container-id-1 div.sk-item::before, #sk-container-id-1 div.sk-parallel-item::before {content: \"\";position: absolute;border-left: 1px solid gray;box-sizing: border-box;top: 0;bottom: 0;left: 50%;z-index: -1;}#sk-container-id-1 div.sk-parallel-item {display: flex;flex-direction: column;z-index: 1;position: relative;background-color: white;}#sk-container-id-1 div.sk-parallel-item:first-child::after {align-self: flex-end;width: 50%;}#sk-container-id-1 div.sk-parallel-item:last-child::after {align-self: flex-start;width: 50%;}#sk-container-id-1 div.sk-parallel-item:only-child::after {width: 0;}#sk-container-id-1 div.sk-dashed-wrapped {border: 1px dashed gray;margin: 0 0.4em 0.5em 0.4em;box-sizing: border-box;padding-bottom: 0.4em;background-color: white;}#sk-container-id-1 div.sk-label label {font-family: monospace;font-weight: bold;display: inline-block;line-height: 1.2em;}#sk-container-id-1 div.sk-label-container {text-align: center;}#sk-container-id-1 div.sk-container {/* jupyter's `normalize.less` sets `[hidden] { display: none; }` but bootstrap.min.css set `[hidden] { display: none !important; }` so we also need the `!important` here to be able to override the default hidden behavior on the sphinx rendered scikit-learn.org. See: https://github.com/scikit-learn/scikit-learn/issues/21755 */display: inline-block !important;position: relative;}#sk-container-id-1 div.sk-text-repr-fallback {display: none;}</style><div id=\"sk-container-id-1\" class=\"sk-top-container\"><div class=\"sk-text-repr-fallback\"><pre>LinearRegression()</pre><b>In a Jupyter environment, please rerun this cell to show the HTML representation or trust the notebook. <br />On GitHub, the HTML representation is unable to render, please try loading this page with nbviewer.org.</b></div><div class=\"sk-container\" hidden><div class=\"sk-item\"><div class=\"sk-estimator sk-toggleable\"><input class=\"sk-toggleable__control sk-hidden--visually\" id=\"sk-estimator-id-1\" type=\"checkbox\" checked><label for=\"sk-estimator-id-1\" class=\"sk-toggleable__label sk-toggleable__label-arrow\">LinearRegression</label><div class=\"sk-toggleable__content\"><pre>LinearRegression()</pre></div></div></div></div></div>"
            ]
          },
          "metadata": {},
          "execution_count": 4
        }
      ]
    },
    {
      "cell_type": "code",
      "source": [
        "# Exportar los coeficientes y el intercepto\n",
        "coefficients = model.coef_\n",
        "intercept = model.intercept_\n",
        "\n",
        "print(\"Coeficientes:\", coefficients)\n",
        "print(\"Intercepto:\", intercept)\n"
      ],
      "metadata": {
        "id": "MhzdSf2oxn29",
        "outputId": "20c6f7cb-7d09-41e9-cb62-6c1b32eaeb84",
        "colab": {
          "base_uri": "https://localhost:8080/"
        }
      },
      "execution_count": null,
      "outputs": [
        {
          "output_type": "stream",
          "name": "stdout",
          "text": [
            "Coeficientes: [-0.00111088  0.0050973  -0.10190826  0.23405763  0.11132966 -0.25175795\n",
            " -0.00733107  0.02140242 -0.00822007  0.00349887  0.0072576  -0.01113486]\n",
            "Intercepto: 51.651552490966644\n"
          ]
        }
      ]
    },
    {
      "cell_type": "code",
      "source": [
        "coefs_string = ', '.join(map(str, coefficients.flatten()))\n",
        "print(\"Coeficientes (una línea):\")\n",
        "print(coefs_string)"
      ],
      "metadata": {
        "colab": {
          "base_uri": "https://localhost:8080/"
        },
        "id": "hJyd4YUNCRdH",
        "outputId": "d890ca3e-ad91-47a6-8e55-14d4517abd03"
      },
      "execution_count": null,
      "outputs": [
        {
          "output_type": "stream",
          "name": "stdout",
          "text": [
            "Coeficientes (una línea):\n",
            "-0.0011108847580433678, 0.005097304816592673, -0.10190825850818845, 0.23405763061546064, 0.11132966038144869, -0.25175795364887515, -0.007331069240944121, 0.021402418400656566, -0.008220070283312302, 0.0034988694128407893, 0.0072576040286556846, -0.011134855848972473\n"
          ]
        }
      ]
    },
    {
      "cell_type": "code",
      "source": [
        "# Evaluar rendimiento del modelo de regresión lineal estándar en conjunto de prueba\n",
        "y_pred = model.predict(X_test)\n",
        "\n",
        "mse_lr = mean_squared_error(y_test, y_pred)\n",
        "r2_lr = r2_score(y_test, y_pred)\n",
        "mae_lr = mean_absolute_error(y_test, y_pred)\n",
        "rmse_lr = np.sqrt(mse_lr)\n",
        "\n",
        "print(\"Rendimiento del modelo de regresión lineal estándar:\")\n",
        "print(\"MSE:\", mse_lr)\n",
        "print(\"R-cuadrado:\", r2_lr)\n",
        "print(\"Error absoluto medio (MAE):\", mae_lr)\n",
        "print(\"Raíz del error cuadrático medio (RMSE):\", rmse_lr)\n",
        "print()\n",
        "print(y_pred)\n",
        "\n",
        "print(X_test[0:1])"
      ],
      "metadata": {
        "colab": {
          "base_uri": "https://localhost:8080/"
        },
        "id": "nG4wDcyuFaLM",
        "outputId": "6ad6d0f8-66a7-4182-fca3-511343c85667"
      },
      "execution_count": null,
      "outputs": [
        {
          "output_type": "stream",
          "name": "stdout",
          "text": [
            "Rendimiento del modelo de regresión lineal estándar:\n",
            "MSE: 10.574976697725537\n",
            "R-cuadrado: 0.5401701447588589\n",
            "Error absoluto medio (MAE): 2.7278835198675058\n",
            "Raíz del error cuadrático medio (RMSE): 3.2519189254539445\n",
            "\n",
            "[50.3974964  52.74808091 48.74442774 49.84028573 51.6560802  50.61823206\n",
            " 54.87772379 48.57891751 56.1459329  62.20712166 54.026524   55.98463494\n",
            " 48.57075642 56.46304771 49.33045545 63.76821602 47.92632251 49.51415044\n",
            " 56.87390541 55.54661467]\n",
            "       NIR_R    NIR_S    NIR_T    NIR_U    NIR_V   NIR_W  Vis_Violet  \\\n",
            "83  2240.319  754.018  199.185  109.068  146.565  87.921     423.837   \n",
            "\n",
            "    Vis_Blue  Vis_Green  Vis_Yellow  Vis_Orange   Vis_Red  \n",
            "83   353.905    484.946     860.277    1095.734  1209.172  \n"
          ]
        }
      ]
    },
    {
      "cell_type": "markdown",
      "source": [
        "# °BRIX"
      ],
      "metadata": {
        "id": "e8CHUOeDCvQ8"
      }
    },
    {
      "cell_type": "code",
      "source": [
        "# prompt: Realizar los pasos anteriormente pero con variables de grados Brix\n",
        "\n",
        "import pandas as pd\n",
        "from sklearn.model_selection import train_test_split\n",
        "from sklearn.metrics import mean_squared_error, r2_score, mean_absolute_error\n",
        "from sklearn.linear_model import LinearRegression\n",
        "import tensorflow as tf\n",
        "import numpy as np\n",
        "from google.colab import drive\n",
        "\n",
        "drive.mount('/content/drive')\n",
        "# Cargar tu conjunto de datos\n",
        "data = pd.read_csv(\"/content/drive/My Drive/Tesis/Dataset/nuevo_dataset_prueba.csv\")\n",
        "# Crear el DataFrame Referencia\n",
        "#y = data['Humedad']\n",
        "y = data['°BRIX']\n",
        "X =data[['NIR_R', 'NIR_S', 'NIR_T', 'NIR_U', 'NIR_V', 'NIR_W', 'Vis_Violet', 'Vis_Blue', 'Vis_Green', 'Vis_Yellow', 'Vis_Orange', 'Vis_Red']]\n",
        "\n",
        "# # Para Contenido de Agua\n",
        "# Dividir datos en conjuntos de entrenamiento y prueba (80% entrenamiento, 20% prueba)\n",
        "X_train, X_test, y_train, y_test = train_test_split(X, y, test_size=0.2, random_state=42)\n",
        "\n",
        "# Definir y entrenar modelo de regresión lineal estándar\n",
        "model= LinearRegression()\n",
        "model.fit(X_train, y_train)\n",
        "\n",
        "# Exportar los coeficientes y el intercepto\n",
        "coefficients = model.coef_\n",
        "intercept = model.intercept_\n",
        "\n",
        "print(\"Coeficientes:\", coefficients)\n",
        "print(\"Intercepto:\", intercept)\n",
        "\n",
        "coefs_string = ', '.join(map(str, coefficients.flatten()))\n",
        "print(\"Coeficientes (una línea):\")\n",
        "print(coefs_string)\n",
        "# Evaluar rendimiento del modelo de regresión lineal estándar en conjunto de prueba\n",
        "y_pred = model.predict(X_test)\n",
        "\n",
        "mse_lr = mean_squared_error(y_test, y_pred)\n",
        "r2_lr = r2_score(y_test, y_pred)\n",
        "mae_lr = mean_absolute_error(y_test, y_pred)\n",
        "rmse_lr = np.sqrt(mse_lr)\n",
        "\n",
        "print(\"Rendimiento del modelo de regresión lineal estándar:\")\n",
        "print(\"MSE:\", mse_lr)\n",
        "print(\"R-cuadrado:\", r2_lr)\n",
        "print(\"Error absoluto medio (MAE):\", mae_lr)\n",
        "print(\"Raíz del error cuadrático medio (RMSE):\", rmse_lr)\n",
        "print()\n",
        "print(y_pred)\n",
        "\n",
        "print(X_test[0:1])\n"
      ],
      "metadata": {
        "colab": {
          "base_uri": "https://localhost:8080/"
        },
        "id": "UIbrtlhj4iG_",
        "outputId": "cac4149c-264d-4bee-8a91-ade07c3cf67f"
      },
      "execution_count": null,
      "outputs": [
        {
          "output_type": "stream",
          "name": "stdout",
          "text": [
            "Drive already mounted at /content/drive; to attempt to forcibly remount, call drive.mount(\"/content/drive\", force_remount=True).\n",
            "Coeficientes: [ 0.00037796 -0.00042952  0.01421216 -0.02228478 -0.02278644  0.03195225\n",
            "  0.00072381 -0.00160025  0.0008086  -0.00103992 -0.00048325  0.00145559]\n",
            "Intercepto: 8.127227675282404\n",
            "Coeficientes (una línea):\n",
            "0.000377958691719548, -0.0004295176430231859, 0.014212159718539228, -0.022284784658712566, -0.02278643535211287, 0.03195224658387058, 0.0007238105195725051, -0.0016002536025743418, 0.0008085994505081268, -0.0010399184265769753, -0.00048324946166621247, 0.001455593149415621\n",
            "Rendimiento del modelo de regresión lineal estándar:\n",
            "MSE: 0.1803086462445246\n",
            "R-cuadrado: 0.8071233005837231\n",
            "Error absoluto medio (MAE): 0.36009399317470814\n",
            "Raíz del error cuadrático medio (RMSE): 0.42462765600526375\n",
            "\n",
            "[8.9884821  8.30578071 9.07609346 9.09718367 8.37723894 8.38491859\n",
            " 7.57212403 9.12845789 7.69038233 7.28630034 7.70304943 7.58383257\n",
            " 9.06516937 7.71565257 9.186213   6.86028075 9.20154584 9.31580765\n",
            " 7.26068744 7.65300576]\n",
            "       NIR_R    NIR_S    NIR_T    NIR_U    NIR_V   NIR_W  Vis_Violet  \\\n",
            "83  2240.319  754.018  199.185  109.068  146.565  87.921     423.837   \n",
            "\n",
            "    Vis_Blue  Vis_Green  Vis_Yellow  Vis_Orange   Vis_Red  \n",
            "83   353.905    484.946     860.277    1095.734  1209.172  \n"
          ]
        }
      ]
    },
    {
      "cell_type": "code",
      "source": [
        "# Crear el DataFrame Referencia\n",
        "y = data['pH']\n",
        "X =data[['NIR_R', 'NIR_S', 'NIR_T', 'NIR_U', 'NIR_V', 'NIR_W', 'Vis_Violet', 'Vis_Blue', 'Vis_Green', 'Vis_Yellow', 'Vis_Orange', 'Vis_Red']]\n",
        "\n",
        "# Dividir datos en conjuntos de entrenamiento y prueba (80% entrenamiento, 20% prueba)\n",
        "X_train, X_test, y_train, y_test = train_test_split(X, y, test_size=0.2, random_state=42)\n",
        "\n",
        "# Definir y entrenar modelo de regresión lineal estándar\n",
        "model= LinearRegression()\n",
        "model.fit(X_train, y_train)\n",
        "# Exportar los coeficientes y el intercepto\n",
        "coefficients = model.coef_\n",
        "intercept = model.intercept_\n",
        "\n",
        "print(\"Intercepto:\", intercept)\n",
        "coefs_string = ', '.join(map(str, coefficients.flatten()))\n",
        "print(\"Coeficientes (una línea):\")\n",
        "print(coefs_string)\n",
        "# Evaluar rendimiento del modelo de regresión lineal estándar en conjunto de prueba\n",
        "y_pred = model.predict(X_test)\n",
        "\n",
        "mse_lr = mean_squared_error(y_test, y_pred)\n",
        "r2_lr = r2_score(y_test, y_pred)\n",
        "mae_lr = mean_absolute_error(y_test, y_pred)\n",
        "rmse_lr = np.sqrt(mse_lr)\n",
        "\n",
        "print(\"Rendimiento del modelo de regresión lineal estándar:\")\n",
        "print(\"MSE:\", mse_lr)\n",
        "print(\"R-cuadrado:\", r2_lr)\n",
        "print(\"Error absoluto medio (MAE):\", mae_lr)\n",
        "print(\"Raíz del error cuadrático medio (RMSE):\", rmse_lr)\n",
        "print()\n",
        "print(y_pred)\n",
        "\n",
        "print(X_test[0:1])"
      ],
      "metadata": {
        "colab": {
          "base_uri": "https://localhost:8080/"
        },
        "id": "8ukaDGI3QJG0",
        "outputId": "20ccc55d-13ca-4425-a801-82eb8b0683f0"
      },
      "execution_count": null,
      "outputs": [
        {
          "output_type": "stream",
          "name": "stdout",
          "text": [
            "Intercepto: 6.474487729554542\n",
            "Coeficientes (una línea):\n",
            "8.693687899736607e-05, -0.00018853972533713833, 0.0020176571935501876, -0.004521368137724909, -0.0033088694406935943, 0.006506770797767021, 4.180311942641017e-06, -0.00042497692511292553, 0.00014495596077964456, -0.00016596336257104094, -7.95579023589295e-05, 0.00028182095888054344\n",
            "Rendimiento del modelo de regresión lineal estándar:\n",
            "MSE: 0.011408881016377461\n",
            "R-cuadrado: 0.6853827861317965\n",
            "Error absoluto medio (MAE): 0.0883646470787498\n",
            "Raíz del error cuadrático medio (RMSE): 0.10681236359325386\n",
            "\n",
            "[6.55544691 6.51828454 6.63401155 6.62522027 6.54366571 6.65789246\n",
            " 6.41974588 6.59240804 6.36444036 6.18843743 6.51962385 6.45810467\n",
            " 6.6015908  6.43316283 6.5682078  6.12090777 6.647982   6.60439199\n",
            " 6.36293971 6.4342177 ]\n",
            "       NIR_R    NIR_S    NIR_T    NIR_U    NIR_V   NIR_W  Vis_Violet  \\\n",
            "83  2240.319  754.018  199.185  109.068  146.565  87.921     423.837   \n",
            "\n",
            "    Vis_Blue  Vis_Green  Vis_Yellow  Vis_Orange   Vis_Red  \n",
            "83   353.905    484.946     860.277    1095.734  1209.172  \n"
          ]
        }
      ]
    },
    {
      "cell_type": "code",
      "source": [
        "# Crear el DataFrame Referencia\n",
        "y = data['IM']\n",
        "X =data[['NIR_R', 'NIR_S', 'NIR_T', 'NIR_U', 'NIR_V', 'NIR_W', 'Vis_Violet', 'Vis_Blue', 'Vis_Green', 'Vis_Yellow', 'Vis_Orange', 'Vis_Red']]\n",
        "\n",
        "# Dividir datos en conjuntos de entrenamiento y prueba (80% entrenamiento, 20% prueba)\n",
        "X_train, X_test, y_train, y_test = train_test_split(X, y, test_size=0.2, random_state=42)\n",
        "\n",
        "# Definir y entrenar modelo de regresión lineal estándar\n",
        "model= LinearRegression()\n",
        "model.fit(X_train, y_train)\n",
        "# Exportar los coeficientes y el intercepto\n",
        "coefficients = model.coef_\n",
        "intercept = model.intercept_\n",
        "\n",
        "print(\"Intercepto:\", intercept)\n",
        "coefs_string = ', '.join(map(str, coefficients.flatten()))\n",
        "print(\"Coeficientes (una línea):\")\n",
        "print(coefs_string)\n",
        "# Evaluar rendimiento del modelo de regresión lineal estándar en conjunto de prueba\n",
        "y_pred = model.predict(X_test)\n",
        "\n",
        "mse_lr = mean_squared_error(y_test, y_pred)\n",
        "r2_lr = r2_score(y_test, y_pred)\n",
        "mae_lr = mean_absolute_error(y_test, y_pred)\n",
        "rmse_lr = np.sqrt(mse_lr)\n",
        "\n",
        "print(\"Rendimiento del modelo de regresión lineal estándar:\")\n",
        "print(\"MSE:\", mse_lr)\n",
        "print(\"R-cuadrado:\", r2_lr)\n",
        "print(\"Error absoluto medio (MAE):\", mae_lr)\n",
        "print(\"Raíz del error cuadrático medio (RMSE):\", rmse_lr)\n",
        "print()\n",
        "print(y_pred)\n",
        "\n",
        "print(X_test[0:1])"
      ],
      "metadata": {
        "colab": {
          "base_uri": "https://localhost:8080/"
        },
        "id": "3XOLs3JUQRmj",
        "outputId": "ada21317-076b-46d0-882e-7e7870a47185"
      },
      "execution_count": null,
      "outputs": [
        {
          "output_type": "stream",
          "name": "stdout",
          "text": [
            "Intercepto: 40.067211014237024\n",
            "Coeficientes (una línea):\n",
            "0.004653436990892726, 0.003570530272674463, 0.13604321879622408, -0.15366521575203398, -0.2705038171946117, 0.24421990164914895, 0.011553199565935693, -0.006634596691390936, 0.00855392065273579, -0.007801580703112682, -0.008795021905005154, 0.013670521868057173\n",
            "Rendimiento del modelo de regresión lineal estándar:\n",
            "MSE: 14.062713404568424\n",
            "R-cuadrado: 0.7429035089283145\n",
            "Error absoluto medio (MAE): 2.809851246489922\n",
            "Raíz del error cuadrático medio (RMSE): 3.7500284538345072\n",
            "\n",
            "[52.22644861 41.08054774 50.42203515 49.3361721  41.42957542 38.753278\n",
            " 35.35169481 52.69808133 39.89044886 38.83591431 34.26255687 35.21065756\n",
            " 51.09300109 36.00936193 54.08656383 35.64214564 51.0659718  54.82831389\n",
            " 33.13143356 35.38022307]\n",
            "       NIR_R    NIR_S    NIR_T    NIR_U    NIR_V   NIR_W  Vis_Violet  \\\n",
            "83  2240.319  754.018  199.185  109.068  146.565  87.921     423.837   \n",
            "\n",
            "    Vis_Blue  Vis_Green  Vis_Yellow  Vis_Orange   Vis_Red  \n",
            "83   353.905    484.946     860.277    1095.734  1209.172  \n"
          ]
        }
      ]
    }
  ]
}