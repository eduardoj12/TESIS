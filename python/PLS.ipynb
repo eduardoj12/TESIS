{
  "nbformat": 4,
  "nbformat_minor": 0,
  "metadata": {
    "colab": {
      "provenance": []
    },
    "kernelspec": {
      "name": "python3",
      "display_name": "Python 3"
    },
    "language_info": {
      "name": "python"
    }
  },
  "cells": [
    {
      "cell_type": "code",
      "execution_count": null,
      "metadata": {
        "id": "v0QH5U6hoidw"
      },
      "outputs": [],
      "source": [
        "import numpy as np\n",
        "import pandas as pd\n",
        "from sklearn.model_selection import train_test_split\n",
        "from sklearn.linear_model import LinearRegression\n",
        "from sklearn.cross_decomposition import PLSRegression\n",
        "from sklearn.metrics import mean_squared_error, r2_score\n",
        "from sklearn.preprocessing import StandardScaler"
      ]
    },
    {
      "cell_type": "code",
      "source": [
        "from google.colab import drive\n",
        "drive.mount('/content/drive')\n",
        "# Cargar tu conjunto de datos\n",
        "data = pd.read_csv(\"/content/drive/My Drive/Tesis/Dataset/nuevo_dataset_prueba.csv\")\n"
      ],
      "metadata": {
        "colab": {
          "base_uri": "https://localhost:8080/"
        },
        "id": "vreshr6Ggb-b",
        "outputId": "3b05eda9-8d03-4ed7-8076-a3fc630e6ae2"
      },
      "execution_count": null,
      "outputs": [
        {
          "output_type": "stream",
          "name": "stdout",
          "text": [
            "Mounted at /content/drive\n"
          ]
        }
      ]
    },
    {
      "cell_type": "code",
      "source": [
        "# Crear el DataFrame Referencia\n",
        "y = data['Humedad']\n",
        "#y=data['CSS BRIX°']\n",
        "X =data[['NIR_R', 'NIR_S', 'NIR_T', 'NIR_U', 'NIR_V', 'NIR_W', 'Vis_Violet', 'Vis_Blue', 'Vis_Green', 'Vis_Yellow', 'Vis_Orange', 'Vis_Red']]"
      ],
      "metadata": {
        "id": "K_ChCA2fg1nV"
      },
      "execution_count": null,
      "outputs": []
    },
    {
      "cell_type": "code",
      "source": [
        "# Dividir los datos en conjunto de entrenamiento y conjunto de prueba\n",
        "X_train, X_test, y_train, y_test = train_test_split(X, y, test_size=0.05, random_state=42)"
      ],
      "metadata": {
        "id": "7l8idSL4rUmE"
      },
      "execution_count": null,
      "outputs": []
    },
    {
      "cell_type": "code",
      "source": [
        "# Definir y entrenar modelo PLS\n",
        "pls_model = PLSRegression(n_components=5)  # Elige el número de componentes PLS que deseas\n",
        "pls_model.fit(X_train, y_train)\n"
      ],
      "metadata": {
        "colab": {
          "base_uri": "https://localhost:8080/",
          "height": 74
        },
        "id": "7RyM-qNOpmnw",
        "outputId": "e4f5de0d-d9ed-452f-c4cc-7649078dfa36"
      },
      "execution_count": null,
      "outputs": [
        {
          "output_type": "execute_result",
          "data": {
            "text/plain": [
              "PLSRegression(n_components=5)"
            ],
            "text/html": [
              "<style>#sk-container-id-1 {color: black;background-color: white;}#sk-container-id-1 pre{padding: 0;}#sk-container-id-1 div.sk-toggleable {background-color: white;}#sk-container-id-1 label.sk-toggleable__label {cursor: pointer;display: block;width: 100%;margin-bottom: 0;padding: 0.3em;box-sizing: border-box;text-align: center;}#sk-container-id-1 label.sk-toggleable__label-arrow:before {content: \"▸\";float: left;margin-right: 0.25em;color: #696969;}#sk-container-id-1 label.sk-toggleable__label-arrow:hover:before {color: black;}#sk-container-id-1 div.sk-estimator:hover label.sk-toggleable__label-arrow:before {color: black;}#sk-container-id-1 div.sk-toggleable__content {max-height: 0;max-width: 0;overflow: hidden;text-align: left;background-color: #f0f8ff;}#sk-container-id-1 div.sk-toggleable__content pre {margin: 0.2em;color: black;border-radius: 0.25em;background-color: #f0f8ff;}#sk-container-id-1 input.sk-toggleable__control:checked~div.sk-toggleable__content {max-height: 200px;max-width: 100%;overflow: auto;}#sk-container-id-1 input.sk-toggleable__control:checked~label.sk-toggleable__label-arrow:before {content: \"▾\";}#sk-container-id-1 div.sk-estimator input.sk-toggleable__control:checked~label.sk-toggleable__label {background-color: #d4ebff;}#sk-container-id-1 div.sk-label input.sk-toggleable__control:checked~label.sk-toggleable__label {background-color: #d4ebff;}#sk-container-id-1 input.sk-hidden--visually {border: 0;clip: rect(1px 1px 1px 1px);clip: rect(1px, 1px, 1px, 1px);height: 1px;margin: -1px;overflow: hidden;padding: 0;position: absolute;width: 1px;}#sk-container-id-1 div.sk-estimator {font-family: monospace;background-color: #f0f8ff;border: 1px dotted black;border-radius: 0.25em;box-sizing: border-box;margin-bottom: 0.5em;}#sk-container-id-1 div.sk-estimator:hover {background-color: #d4ebff;}#sk-container-id-1 div.sk-parallel-item::after {content: \"\";width: 100%;border-bottom: 1px solid gray;flex-grow: 1;}#sk-container-id-1 div.sk-label:hover label.sk-toggleable__label {background-color: #d4ebff;}#sk-container-id-1 div.sk-serial::before {content: \"\";position: absolute;border-left: 1px solid gray;box-sizing: border-box;top: 0;bottom: 0;left: 50%;z-index: 0;}#sk-container-id-1 div.sk-serial {display: flex;flex-direction: column;align-items: center;background-color: white;padding-right: 0.2em;padding-left: 0.2em;position: relative;}#sk-container-id-1 div.sk-item {position: relative;z-index: 1;}#sk-container-id-1 div.sk-parallel {display: flex;align-items: stretch;justify-content: center;background-color: white;position: relative;}#sk-container-id-1 div.sk-item::before, #sk-container-id-1 div.sk-parallel-item::before {content: \"\";position: absolute;border-left: 1px solid gray;box-sizing: border-box;top: 0;bottom: 0;left: 50%;z-index: -1;}#sk-container-id-1 div.sk-parallel-item {display: flex;flex-direction: column;z-index: 1;position: relative;background-color: white;}#sk-container-id-1 div.sk-parallel-item:first-child::after {align-self: flex-end;width: 50%;}#sk-container-id-1 div.sk-parallel-item:last-child::after {align-self: flex-start;width: 50%;}#sk-container-id-1 div.sk-parallel-item:only-child::after {width: 0;}#sk-container-id-1 div.sk-dashed-wrapped {border: 1px dashed gray;margin: 0 0.4em 0.5em 0.4em;box-sizing: border-box;padding-bottom: 0.4em;background-color: white;}#sk-container-id-1 div.sk-label label {font-family: monospace;font-weight: bold;display: inline-block;line-height: 1.2em;}#sk-container-id-1 div.sk-label-container {text-align: center;}#sk-container-id-1 div.sk-container {/* jupyter's `normalize.less` sets `[hidden] { display: none; }` but bootstrap.min.css set `[hidden] { display: none !important; }` so we also need the `!important` here to be able to override the default hidden behavior on the sphinx rendered scikit-learn.org. See: https://github.com/scikit-learn/scikit-learn/issues/21755 */display: inline-block !important;position: relative;}#sk-container-id-1 div.sk-text-repr-fallback {display: none;}</style><div id=\"sk-container-id-1\" class=\"sk-top-container\"><div class=\"sk-text-repr-fallback\"><pre>PLSRegression(n_components=5)</pre><b>In a Jupyter environment, please rerun this cell to show the HTML representation or trust the notebook. <br />On GitHub, the HTML representation is unable to render, please try loading this page with nbviewer.org.</b></div><div class=\"sk-container\" hidden><div class=\"sk-item\"><div class=\"sk-estimator sk-toggleable\"><input class=\"sk-toggleable__control sk-hidden--visually\" id=\"sk-estimator-id-1\" type=\"checkbox\" checked><label for=\"sk-estimator-id-1\" class=\"sk-toggleable__label sk-toggleable__label-arrow\">PLSRegression</label><div class=\"sk-toggleable__content\"><pre>PLSRegression(n_components=5)</pre></div></div></div></div></div>"
            ]
          },
          "metadata": {},
          "execution_count": 5
        }
      ]
    },
    {
      "cell_type": "code",
      "source": [
        "# Evaluar rendimiento del modelo PLS en conjunto de prueba\n",
        "y_pred_pls = pls_model.predict(X_test)\n",
        "mse_pls = mean_squared_error(y_test, y_pred_pls)\n",
        "r2_pls = r2_score(y_test, y_pred_pls)\n",
        "\n",
        "print(\"Rendimiento del modelo de PLS:\")\n",
        "print(\"MSE:\", mse_pls)\n",
        "print(\"R-cuadrado:\", r2_pls)\n",
        "print()\n",
        "\n",
        "print(y_pred_pls)\n",
        "print(X_test[1:2])\n",
        "\n"
      ],
      "metadata": {
        "colab": {
          "base_uri": "https://localhost:8080/"
        },
        "id": "bV7x1B0shPOR",
        "outputId": "e6a39f45-9c15-4367-bf24-d85b33101ce1"
      },
      "execution_count": null,
      "outputs": [
        {
          "output_type": "stream",
          "name": "stdout",
          "text": [
            "Rendimiento del modelo de PLS:\n",
            "MSE: 2.706242028457155\n",
            "R-cuadrado: -0.4809396548960425\n",
            "\n",
            "[[50.97050965]\n",
            " [50.34521895]\n",
            " [49.96660263]\n",
            " [47.26359017]\n",
            " [50.25122731]]\n",
            "       NIR_R    NIR_S    NIR_T   NIR_U    NIR_V   NIR_W  Vis_Violet  Vis_Blue  \\\n",
            "53  2247.625  486.668  150.879  83.128  136.228  68.788     375.522   271.928   \n",
            "\n",
            "    Vis_Green  Vis_Yellow  Vis_Orange  Vis_Red  \n",
            "53    868.575    1445.979    1893.665   1396.2  \n"
          ]
        }
      ]
    },
    {
      "cell_type": "code",
      "source": [
        "# Calcula las medias manualmente\n",
        "X_mean = np.mean(X_train, axis=0)\n",
        "y_mean = np.mean(y_train, axis=0)\n",
        "\n",
        "# Extrae los coeficientes\n",
        "coefficients = pls_model.coef_\n",
        "print(\"Coefficients:\", coefficients)\n",
        "print(\"X mean:\", X_mean)\n",
        "print(\"y mean:\", y_mean)\n"
      ],
      "metadata": {
        "colab": {
          "base_uri": "https://localhost:8080/"
        },
        "id": "N7fLo2EuyF9w",
        "outputId": "d59cc256-9fae-4db8-a414-992bf43b76f9"
      },
      "execution_count": null,
      "outputs": [
        {
          "output_type": "stream",
          "name": "stdout",
          "text": [
            "Coefficients: [[-1.77840272]\n",
            " [-2.8716605 ]\n",
            " [-0.84114434]\n",
            " [ 2.96863434]\n",
            " [ 1.04063975]\n",
            " [ 1.15475075]\n",
            " [-0.7981967 ]\n",
            " [ 3.09597443]\n",
            " [-0.75304486]\n",
            " [ 2.51222512]\n",
            " [-0.61164474]\n",
            " [-2.54553941]]\n",
            "X mean: NIR_R         2912.587789\n",
            "NIR_S          812.686811\n",
            "NIR_T          229.912558\n",
            "NIR_U          129.759305\n",
            "NIR_V          194.642863\n",
            "NIR_W          111.509379\n",
            "Vis_Violet     531.383253\n",
            "Vis_Blue       468.395305\n",
            "Vis_Green     1369.171021\n",
            "Vis_Yellow    1752.066611\n",
            "Vis_Orange    1997.704895\n",
            "Vis_Red       1438.878874\n",
            "dtype: float64\n",
            "y mean: 52.830448471142525\n"
          ]
        },
        {
          "output_type": "stream",
          "name": "stderr",
          "text": [
            "/usr/local/lib/python3.10/dist-packages/sklearn/cross_decomposition/_pls.py:503: FutureWarning: The attribute `coef_` will be transposed in version 1.3 to be consistent with other linear models in scikit-learn. Currently, `coef_` has a shape of (n_features, n_targets) and in the future it will have a shape of (n_targets, n_features).\n",
            "  warnings.warn(\n"
          ]
        }
      ]
    },
    {
      "cell_type": "code",
      "source": [
        "# prompt: colocar en una linea los coeficientes\n",
        "\n",
        "coefs_string = ', '.join(map(str, coefficients.flatten()))\n",
        "print(\"Coeficientes (una línea):\")\n",
        "print(coefs_string)\n",
        "\n",
        "# Convertir el Pandas Series a una lista antes de unir\n",
        "MediaX_string = ', '.join(map(str, X_mean.tolist()))  # Cambio aquí\n",
        "print(\"Media X (una línea):\")  # Etiqueta cambiada para mayor claridad\n",
        "print(MediaX_string)\n"
      ],
      "metadata": {
        "colab": {
          "base_uri": "https://localhost:8080/"
        },
        "id": "ERu-wIpPxlaI",
        "outputId": "4cb47d14-1d3c-4469-fe38-3af5dc5df94a"
      },
      "execution_count": null,
      "outputs": [
        {
          "output_type": "stream",
          "name": "stdout",
          "text": [
            "Coeficientes (una línea):\n",
            "-1.7784027227679085, -2.8716605005514624, -0.8411443448452596, 2.9686343447350625, 1.0406397502842235, 1.1547507457353579, -0.7981967008702849, 3.0959744317636204, -0.7530448645440819, 2.512225118758314, -0.6116447363470329, -2.54553941317361\n",
            "Media X (una línea):\n",
            "2912.5877894736836, 812.6868105263159, 229.91255789473684, 129.75930526315793, 194.64286315789474, 111.50937894736842, 531.3832526315789, 468.39530526315787, 1369.1710210526314, 1752.0666105263156, 1997.7048947368423, 1438.8788736842107\n"
          ]
        }
      ]
    },
    {
      "cell_type": "code",
      "source": [
        "# Crear el DataFrame Referencia\n",
        "y=data['°BRIX']\n",
        "X =data[['NIR_R', 'NIR_S', 'NIR_T', 'NIR_U', 'NIR_V', 'NIR_W', 'Vis_Violet', 'Vis_Blue', 'Vis_Green', 'Vis_Yellow', 'Vis_Orange', 'Vis_Red']]\n",
        "\n",
        "# Dividir los datos en conjunto de entrenamiento y conjunto de prueba\n",
        "X_train, X_test, y_train, y_test = train_test_split(X, y, test_size=0.05, random_state=42)\n",
        "\n",
        "# Definir y entrenar modelo PLS\n",
        "pls_model = PLSRegression(n_components=5)  # Elige el número de componentes PLS que deseas\n",
        "pls_model.fit(X_train, y_train)\n",
        "\n",
        "# Evaluar rendimiento del modelo PLS en conjunto de prueba\n",
        "y_pred_pls = pls_model.predict(X_test)\n",
        "mse_pls = mean_squared_error(y_test, y_pred_pls)\n",
        "r2_pls = r2_score(y_test, y_pred_pls)\n",
        "print(y_pred_pls[1])\n",
        "print(\"Rendimiento del modelo de PLS:\")\n",
        "print(\"MSE:\", mse_pls)\n",
        "print(\"R-cuadrado:\", r2_pls)\n",
        "\n",
        "# Calcula las medias manualmente\n",
        "X_mean = np.mean(X_train, axis=0)\n",
        "y_mean = np.mean(y_train, axis=0)\n",
        "\n",
        "# Extrae los coeficientes\n",
        "coefficients = pls_model.coef_\n",
        "print(\"Coefficients:\", coefficients)\n",
        "print(\"X mean:\", X_mean)\n",
        "print(\"y mean:\", y_mean)\n",
        "\n",
        "# prompt: colocar en una linea los coeficientes\n",
        "coefs_string = ', '.join(map(str, coefficients.flatten()))\n",
        "print(\"Coeficientes (una línea):\")\n",
        "print(coefs_string)\n",
        "\n",
        "# Convertir el Pandas Series a una lista antes de unir\n",
        "MediaX_string = ', '.join(map(str, X_mean.tolist()))  # Cambio aquí\n",
        "print(\"Media X (una línea):\")  # Etiqueta cambiada para mayor claridad\n",
        "print(MediaX_string)"
      ],
      "metadata": {
        "colab": {
          "base_uri": "https://localhost:8080/"
        },
        "id": "qKIGhqndGMEY",
        "outputId": "1a5a704d-a2e7-430b-c620-221c364eae20"
      },
      "execution_count": null,
      "outputs": [
        {
          "output_type": "stream",
          "name": "stdout",
          "text": [
            "[8.57925727]\n",
            "Rendimiento del modelo de PLS:\n",
            "MSE: 0.4431547207857058\n",
            "R-cuadrado: -0.045779625437171845\n",
            "Coefficients: [[ 0.2502639 ]\n",
            " [ 0.56447716]\n",
            " [ 0.3313363 ]\n",
            " [-0.38726113]\n",
            " [-0.33065386]\n",
            " [-0.2768326 ]\n",
            " [ 0.19947446]\n",
            " [-0.29932602]\n",
            " [ 0.04791949]\n",
            " [-0.7088145 ]\n",
            " [ 0.06498176]\n",
            " [ 0.42143522]]\n",
            "X mean: NIR_R         2912.587789\n",
            "NIR_S          812.686811\n",
            "NIR_T          229.912558\n",
            "NIR_U          129.759305\n",
            "NIR_V          194.642863\n",
            "NIR_W          111.509379\n",
            "Vis_Violet     531.383253\n",
            "Vis_Blue       468.395305\n",
            "Vis_Green     1369.171021\n",
            "Vis_Yellow    1752.066611\n",
            "Vis_Orange    1997.704895\n",
            "Vis_Red       1438.878874\n",
            "dtype: float64\n",
            "y mean: 8.454449903436528\n",
            "Coeficientes (una línea):\n",
            "0.2502638987075172, 0.564477158236186, 0.3313363034231872, -0.3872611279448679, -0.330653858187407, -0.27683260058398756, 0.19947445966178018, -0.2993260158617951, 0.04791948886042247, -0.7088145034395203, 0.06498176348379837, 0.4214352235724421\n",
            "Media X (una línea):\n",
            "2912.5877894736836, 812.6868105263159, 229.91255789473684, 129.75930526315793, 194.64286315789474, 111.50937894736842, 531.3832526315789, 468.39530526315787, 1369.1710210526314, 1752.0666105263156, 1997.7048947368423, 1438.8788736842107\n"
          ]
        },
        {
          "output_type": "stream",
          "name": "stderr",
          "text": [
            "/usr/local/lib/python3.10/dist-packages/sklearn/cross_decomposition/_pls.py:503: FutureWarning: The attribute `coef_` will be transposed in version 1.3 to be consistent with other linear models in scikit-learn. Currently, `coef_` has a shape of (n_features, n_targets) and in the future it will have a shape of (n_targets, n_features).\n",
            "  warnings.warn(\n"
          ]
        }
      ]
    },
    {
      "cell_type": "code",
      "source": [
        "# prompt: Realizar lo anterior pero con variables para pH\n",
        "\n",
        "import numpy as np\n",
        "import pandas as pd\n",
        "from sklearn.model_selection import train_test_split\n",
        "from sklearn.linear_model import LinearRegression\n",
        "from sklearn.cross_decomposition import PLSRegression\n",
        "from sklearn.metrics import mean_squared_error, r2_score\n",
        "from sklearn.preprocessing import StandardScaler\n",
        "from google.colab import drive\n",
        "drive.mount('/content/drive')\n",
        "# Cargar tu conjunto de datos\n",
        "data = pd.read_csv(\"/content/drive/My Drive/Tesis/Dataset/nuevo_dataset_prueba.csv\")\n",
        "\n",
        "# Crear el DataFrame Referencia\n",
        "y = data['pH']\n",
        "X =data[['NIR_R', 'NIR_S', 'NIR_T', 'NIR_U', 'NIR_V', 'NIR_W', 'Vis_Violet', 'Vis_Blue', 'Vis_Green', 'Vis_Yellow', 'Vis_Orange', 'Vis_Red']]\n",
        "# Dividir los datos en conjunto de entrenamiento y conjunto de prueba\n",
        "X_train, X_test, y_train, y_test = train_test_split(X, y, test_size=0.05, random_state=42)\n",
        "# Definir y entrenar modelo PLS\n",
        "pls_model = PLSRegression(n_components=5)  # Elige el número de componentes PLS que deseas\n",
        "pls_model.fit(X_train, y_train)\n",
        "\n",
        "# Evaluar rendimiento del modelo PLS en conjunto de prueba\n",
        "y_pred_pls = pls_model.predict(X_test)\n",
        "mse_pls = mean_squared_error(y_test, y_pred_pls)\n",
        "r2_pls = r2_score(y_test, y_pred_pls)\n",
        "\n",
        "print(\"Rendimiento del modelo de PLS:\")\n",
        "print(\"MSE:\", mse_pls)\n",
        "print(\"R-cuadrado:\", r2_pls)\n",
        "print()\n",
        "\n",
        "print(y_pred_pls)\n",
        "print(X_test[1:2])\n",
        "\n",
        "\n",
        "# Calcula las medias manualmente\n",
        "X_mean = np.mean(X_train, axis=0)\n",
        "y_mean = np.mean(y_train, axis=0)\n",
        "\n",
        "# Extrae los coeficientes\n",
        "coefficients = pls_model.coef_\n",
        "print(\"Coefficients:\", coefficients)\n",
        "print(\"X mean:\", X_mean)\n",
        "print(\"y mean:\", y_mean)\n",
        "\n",
        "\n",
        "coefs_string = ', '.join(map(str, coefficients.flatten()))\n",
        "print(\"Coeficientes (una línea):\")\n",
        "print(coefs_string)\n",
        "\n",
        "# Convertir el Pandas Series a una lista antes de unir\n",
        "MediaX_string = ', '.join(map(str, X_mean.tolist()))  # Cambio aquí\n",
        "print(\"Media X (una línea):\")  # Etiqueta cambiada para mayor claridad\n",
        "print(MediaX_string)\n"
      ],
      "metadata": {
        "colab": {
          "base_uri": "https://localhost:8080/"
        },
        "id": "3xRcJbd_6ZUT",
        "outputId": "03bc7f59-dc9c-4ba4-e729-73ea75d6ebe6"
      },
      "execution_count": null,
      "outputs": [
        {
          "output_type": "stream",
          "name": "stdout",
          "text": [
            "Drive already mounted at /content/drive; to attempt to forcibly remount, call drive.mount(\"/content/drive\", force_remount=True).\n",
            "Rendimiento del modelo de PLS:\n",
            "MSE: 0.01747090824301045\n",
            "R-cuadrado: -1.0119895169839799\n",
            "\n",
            "[[6.54592663]\n",
            " [6.58514209]\n",
            " [6.61169177]\n",
            " [6.67648609]\n",
            " [6.58704862]]\n",
            "       NIR_R    NIR_S    NIR_T   NIR_U    NIR_V   NIR_W  Vis_Violet  Vis_Blue  \\\n",
            "53  2247.625  486.668  150.879  83.128  136.228  68.788     375.522   271.928   \n",
            "\n",
            "    Vis_Green  Vis_Yellow  Vis_Orange  Vis_Red  \n",
            "53    868.575    1445.979    1893.665   1396.2  \n",
            "Coefficients: [[ 0.07124406]\n",
            " [ 0.06992267]\n",
            " [ 0.02606607]\n",
            " [-0.07197948]\n",
            " [-0.02252665]\n",
            " [-0.02617296]\n",
            " [-0.01552518]\n",
            " [-0.09565914]\n",
            " [-0.00017907]\n",
            " [-0.09009312]\n",
            " [ 0.0414934 ]\n",
            " [ 0.10515641]]\n",
            "X mean: NIR_R         2912.587789\n",
            "NIR_S          812.686811\n",
            "NIR_T          229.912558\n",
            "NIR_U          129.759305\n",
            "NIR_V          194.642863\n",
            "NIR_W          111.509379\n",
            "Vis_Violet     531.383253\n",
            "Vis_Blue       468.395305\n",
            "Vis_Green     1369.171021\n",
            "Vis_Yellow    1752.066611\n",
            "Vis_Orange    1997.704895\n",
            "Vis_Red       1438.878874\n",
            "dtype: float64\n",
            "y mean: 6.491007629027258\n",
            "Coeficientes (una línea):\n",
            "0.07124406050324945, 0.069922669579351, 0.02606606807858442, -0.07197947952664117, -0.022526646348378643, -0.026172963905926133, -0.015525181701782883, -0.09565914191506393, -0.00017906976216134702, -0.09009312078706332, 0.04149339788056476, 0.1051564130513164\n",
            "Media X (una línea):\n",
            "2912.5877894736836, 812.6868105263159, 229.91255789473684, 129.75930526315793, 194.64286315789474, 111.50937894736842, 531.3832526315789, 468.39530526315787, 1369.1710210526314, 1752.0666105263156, 1997.7048947368423, 1438.8788736842107\n"
          ]
        },
        {
          "output_type": "stream",
          "name": "stderr",
          "text": [
            "/usr/local/lib/python3.10/dist-packages/sklearn/cross_decomposition/_pls.py:503: FutureWarning: The attribute `coef_` will be transposed in version 1.3 to be consistent with other linear models in scikit-learn. Currently, `coef_` has a shape of (n_features, n_targets) and in the future it will have a shape of (n_targets, n_features).\n",
            "  warnings.warn(\n"
          ]
        }
      ]
    },
    {
      "cell_type": "code",
      "source": [
        "# prompt: Realizar lo anterior pero con variables para IM\n",
        "\n",
        "import numpy as np\n",
        "import pandas as pd\n",
        "from sklearn.model_selection import train_test_split\n",
        "from sklearn.linear_model import LinearRegression\n",
        "from sklearn.cross_decomposition import PLSRegression\n",
        "from sklearn.metrics import mean_squared_error, r2_score\n",
        "from sklearn.preprocessing import StandardScaler\n",
        "from google.colab import drive\n",
        "drive.mount('/content/drive')\n",
        "# Cargar tu conjunto de datos\n",
        "data = pd.read_csv(\"/content/drive/My Drive/Tesis/Dataset/nuevo_dataset_prueba.csv\")\n",
        "\n",
        "# Crear el DataFrame Referencia\n",
        "y = data['IM']\n",
        "X =data[['NIR_R', 'NIR_S', 'NIR_T', 'NIR_U', 'NIR_V', 'NIR_W', 'Vis_Violet', 'Vis_Blue', 'Vis_Green', 'Vis_Yellow', 'Vis_Orange', 'Vis_Red']]\n",
        "# Dividir los datos en conjunto de entrenamiento y conjunto de prueba\n",
        "X_train, X_test, y_train, y_test = train_test_split(X, y, test_size=0.05, random_state=42)\n",
        "# Definir y entrenar modelo PLS\n",
        "pls_model = PLSRegression(n_components=5)  # Elige el número de componentes PLS que deseas\n",
        "pls_model.fit(X_train, y_train)\n",
        "\n",
        "# Evaluar rendimiento del modelo PLS en conjunto de prueba\n",
        "y_pred_pls = pls_model.predict(X_test)\n",
        "mse_pls = mean_squared_error(y_test, y_pred_pls)\n",
        "r2_pls = r2_score(y_test, y_pred_pls)\n",
        "\n",
        "print(\"Rendimiento del modelo de PLS:\")\n",
        "print(\"MSE:\", mse_pls)\n",
        "print(\"R-cuadrado:\", r2_pls)\n",
        "print()\n",
        "\n",
        "print(y_pred_pls)\n",
        "print(X_test[1:2])\n",
        "\n",
        "\n",
        "# Calcula las medias manualmente\n",
        "X_mean = np.mean(X_train, axis=0)\n",
        "y_mean = np.mean(y_train, axis=0)\n",
        "\n",
        "# Extrae los coeficientes\n",
        "coefficients = pls_model.coef_\n",
        "print(\"Coefficients:\", coefficients)\n",
        "print(\"X mean:\", X_mean)\n",
        "print(\"y mean:\", y_mean)\n",
        "\n",
        "\n",
        "coefs_string = ', '.join(map(str, coefficients.flatten()))\n",
        "print(\"Coeficientes (una línea):\")\n",
        "print(coefs_string)\n",
        "\n",
        "# Convertir el Pandas Series a una lista antes de unir\n",
        "MediaX_string = ', '.join(map(str, X_mean.tolist()))  # Cambio aquí\n",
        "print(\"Media X (una línea):\")  # Etiqueta cambiada para mayor claridad\n",
        "print(MediaX_string)\n"
      ],
      "metadata": {
        "colab": {
          "base_uri": "https://localhost:8080/"
        },
        "id": "v49t5MDj64sQ",
        "outputId": "42b848e9-ae6c-4705-ecd7-adc17bdb2f15"
      },
      "execution_count": null,
      "outputs": [
        {
          "output_type": "stream",
          "name": "stdout",
          "text": [
            "Drive already mounted at /content/drive; to attempt to forcibly remount, call drive.mount(\"/content/drive\", force_remount=True).\n",
            "Rendimiento del modelo de PLS:\n",
            "MSE: 13.415029303157556\n",
            "R-cuadrado: -0.017132590832514394\n",
            "\n",
            "[[51.97338667]\n",
            " [42.27497308]\n",
            " [48.19952485]\n",
            " [50.42081731]\n",
            " [42.69376341]]\n",
            "       NIR_R    NIR_S    NIR_T   NIR_U    NIR_V   NIR_W  Vis_Violet  Vis_Blue  \\\n",
            "53  2247.625  486.668  150.879  83.128  136.228  68.788     375.522   271.928   \n",
            "\n",
            "    Vis_Green  Vis_Yellow  Vis_Orange  Vis_Red  \n",
            "53    868.575    1445.979    1893.665   1396.2  \n",
            "Coefficients: [[ 1.39789356]\n",
            " [ 7.59593294]\n",
            " [ 4.09952508]\n",
            " [-4.07057915]\n",
            " [-4.51823149]\n",
            " [-3.61966536]\n",
            " [ 3.63072991]\n",
            " [ 0.5050465 ]\n",
            " [ 1.41782754]\n",
            " [-7.47128068]\n",
            " [-1.89095745]\n",
            " [ 2.38536047]]\n",
            "X mean: NIR_R         2912.587789\n",
            "NIR_S          812.686811\n",
            "NIR_T          229.912558\n",
            "NIR_U          129.759305\n",
            "NIR_V          194.642863\n",
            "NIR_W          111.509379\n",
            "Vis_Violet     531.383253\n",
            "Vis_Blue       468.395305\n",
            "Vis_Green     1369.171021\n",
            "Vis_Yellow    1752.066611\n",
            "Vis_Orange    1997.704895\n",
            "Vis_Red       1438.878874\n",
            "dtype: float64\n",
            "y mean: 45.65177443104114\n",
            "Coeficientes (una línea):\n",
            "1.3978935617920658, 7.595932937758305, 4.099525076130314, -4.070579148893335, -4.5182314926780665, -3.6196653632697466, 3.6307299088511766, 0.5050464950818858, 1.4178275442420938, -7.471280677017944, -1.8909574474373272, 2.3853604708183314\n",
            "Media X (una línea):\n",
            "2912.5877894736836, 812.6868105263159, 229.91255789473684, 129.75930526315793, 194.64286315789474, 111.50937894736842, 531.3832526315789, 468.39530526315787, 1369.1710210526314, 1752.0666105263156, 1997.7048947368423, 1438.8788736842107\n"
          ]
        },
        {
          "output_type": "stream",
          "name": "stderr",
          "text": [
            "/usr/local/lib/python3.10/dist-packages/sklearn/cross_decomposition/_pls.py:503: FutureWarning: The attribute `coef_` will be transposed in version 1.3 to be consistent with other linear models in scikit-learn. Currently, `coef_` has a shape of (n_features, n_targets) and in the future it will have a shape of (n_targets, n_features).\n",
            "  warnings.warn(\n"
          ]
        }
      ]
    }
  ]
}