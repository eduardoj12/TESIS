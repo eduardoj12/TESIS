{
  "nbformat": 4,
  "nbformat_minor": 0,
  "metadata": {
    "colab": {
      "provenance": []
    },
    "kernelspec": {
      "name": "python3",
      "display_name": "Python 3"
    },
    "language_info": {
      "name": "python"
    }
  },
  "cells": [
    {
      "cell_type": "code",
      "execution_count": null,
      "metadata": {
        "id": "v0QH5U6hoidw"
      },
      "outputs": [],
      "source": [
        "import numpy as np\n",
        "import pandas as pd\n",
        "from sklearn.model_selection import train_test_split\n",
        "from sklearn.linear_model import LinearRegression\n",
        "from sklearn.decomposition import PCA\n",
        "from sklearn.preprocessing import StandardScaler\n",
        "from sklearn.pipeline import Pipeline\n",
        "from sklearn.metrics import mean_squared_error, r2_score\n"
      ]
    },
    {
      "cell_type": "code",
      "source": [
        "from google.colab import drive\n",
        "drive.mount('/content/drive')\n",
        "# Cargar tu conjunto de datos\n",
        "data = pd.read_csv(\"/content/drive/My Drive/Tesis/Dataset/nuevo_dataset_prueba.csv\")"
      ],
      "metadata": {
        "colab": {
          "base_uri": "https://localhost:8080/"
        },
        "id": "8EpsOCj8heqk",
        "outputId": "f9ffa727-010b-4c0c-dac6-15b86284094e"
      },
      "execution_count": null,
      "outputs": [
        {
          "output_type": "stream",
          "name": "stdout",
          "text": [
            "Drive already mounted at /content/drive; to attempt to forcibly remount, call drive.mount(\"/content/drive\", force_remount=True).\n"
          ]
        }
      ]
    },
    {
      "cell_type": "code",
      "source": [
        "# Crear el DataFrame Referencia\n",
        "y = data['Humedad']\n",
        "#y=data['CSS BRIX°']\n",
        "X =data[['NIR_R', 'NIR_S', 'NIR_T', 'NIR_U', 'NIR_V', 'NIR_W', 'Vis_Violet', 'Vis_Blue', 'Vis_Green', 'Vis_Yellow', 'Vis_Orange', 'Vis_Red']]"
      ],
      "metadata": {
        "id": "7r-KWgm5hqT_"
      },
      "execution_count": null,
      "outputs": []
    },
    {
      "cell_type": "code",
      "source": [
        "# Dividir los datos en conjunto de entrenamiento y conjunto de prueba\n",
        "X_train, X_test, y_train, y_test = train_test_split(X, y, test_size=0.2, random_state=42)"
      ],
      "metadata": {
        "id": "rvHS7Xyphu5e"
      },
      "execution_count": null,
      "outputs": []
    },
    {
      "cell_type": "code",
      "source": [
        "pca = PCA(n_components=0.95)  # Mantener el 95% de la varianza explicada\n",
        "scaler = StandardScaler()\n",
        "lr_pca_model = LinearRegression()\n",
        "\n",
        "# Construir un pipeline para aplicar PCA, escalar características y luego entrenar la regresión lineal\n",
        "pca_pipeline = Pipeline([('scaler', scaler), ('pca', pca), ('lr', lr_pca_model)])\n",
        "pca_pipeline.fit(X_train, y_train)"
      ],
      "metadata": {
        "colab": {
          "base_uri": "https://localhost:8080/",
          "height": 160
        },
        "id": "7RyM-qNOpmnw",
        "outputId": "8fd53e14-0477-4cb4-c5d7-940c04e20131"
      },
      "execution_count": null,
      "outputs": [
        {
          "output_type": "execute_result",
          "data": {
            "text/plain": [
              "Pipeline(steps=[('scaler', StandardScaler()), ('pca', PCA(n_components=0.95)),\n",
              "                ('lr', LinearRegression())])"
            ],
            "text/html": [
              "<style>#sk-container-id-1 {color: black;background-color: white;}#sk-container-id-1 pre{padding: 0;}#sk-container-id-1 div.sk-toggleable {background-color: white;}#sk-container-id-1 label.sk-toggleable__label {cursor: pointer;display: block;width: 100%;margin-bottom: 0;padding: 0.3em;box-sizing: border-box;text-align: center;}#sk-container-id-1 label.sk-toggleable__label-arrow:before {content: \"▸\";float: left;margin-right: 0.25em;color: #696969;}#sk-container-id-1 label.sk-toggleable__label-arrow:hover:before {color: black;}#sk-container-id-1 div.sk-estimator:hover label.sk-toggleable__label-arrow:before {color: black;}#sk-container-id-1 div.sk-toggleable__content {max-height: 0;max-width: 0;overflow: hidden;text-align: left;background-color: #f0f8ff;}#sk-container-id-1 div.sk-toggleable__content pre {margin: 0.2em;color: black;border-radius: 0.25em;background-color: #f0f8ff;}#sk-container-id-1 input.sk-toggleable__control:checked~div.sk-toggleable__content {max-height: 200px;max-width: 100%;overflow: auto;}#sk-container-id-1 input.sk-toggleable__control:checked~label.sk-toggleable__label-arrow:before {content: \"▾\";}#sk-container-id-1 div.sk-estimator input.sk-toggleable__control:checked~label.sk-toggleable__label {background-color: #d4ebff;}#sk-container-id-1 div.sk-label input.sk-toggleable__control:checked~label.sk-toggleable__label {background-color: #d4ebff;}#sk-container-id-1 input.sk-hidden--visually {border: 0;clip: rect(1px 1px 1px 1px);clip: rect(1px, 1px, 1px, 1px);height: 1px;margin: -1px;overflow: hidden;padding: 0;position: absolute;width: 1px;}#sk-container-id-1 div.sk-estimator {font-family: monospace;background-color: #f0f8ff;border: 1px dotted black;border-radius: 0.25em;box-sizing: border-box;margin-bottom: 0.5em;}#sk-container-id-1 div.sk-estimator:hover {background-color: #d4ebff;}#sk-container-id-1 div.sk-parallel-item::after {content: \"\";width: 100%;border-bottom: 1px solid gray;flex-grow: 1;}#sk-container-id-1 div.sk-label:hover label.sk-toggleable__label {background-color: #d4ebff;}#sk-container-id-1 div.sk-serial::before {content: \"\";position: absolute;border-left: 1px solid gray;box-sizing: border-box;top: 0;bottom: 0;left: 50%;z-index: 0;}#sk-container-id-1 div.sk-serial {display: flex;flex-direction: column;align-items: center;background-color: white;padding-right: 0.2em;padding-left: 0.2em;position: relative;}#sk-container-id-1 div.sk-item {position: relative;z-index: 1;}#sk-container-id-1 div.sk-parallel {display: flex;align-items: stretch;justify-content: center;background-color: white;position: relative;}#sk-container-id-1 div.sk-item::before, #sk-container-id-1 div.sk-parallel-item::before {content: \"\";position: absolute;border-left: 1px solid gray;box-sizing: border-box;top: 0;bottom: 0;left: 50%;z-index: -1;}#sk-container-id-1 div.sk-parallel-item {display: flex;flex-direction: column;z-index: 1;position: relative;background-color: white;}#sk-container-id-1 div.sk-parallel-item:first-child::after {align-self: flex-end;width: 50%;}#sk-container-id-1 div.sk-parallel-item:last-child::after {align-self: flex-start;width: 50%;}#sk-container-id-1 div.sk-parallel-item:only-child::after {width: 0;}#sk-container-id-1 div.sk-dashed-wrapped {border: 1px dashed gray;margin: 0 0.4em 0.5em 0.4em;box-sizing: border-box;padding-bottom: 0.4em;background-color: white;}#sk-container-id-1 div.sk-label label {font-family: monospace;font-weight: bold;display: inline-block;line-height: 1.2em;}#sk-container-id-1 div.sk-label-container {text-align: center;}#sk-container-id-1 div.sk-container {/* jupyter's `normalize.less` sets `[hidden] { display: none; }` but bootstrap.min.css set `[hidden] { display: none !important; }` so we also need the `!important` here to be able to override the default hidden behavior on the sphinx rendered scikit-learn.org. See: https://github.com/scikit-learn/scikit-learn/issues/21755 */display: inline-block !important;position: relative;}#sk-container-id-1 div.sk-text-repr-fallback {display: none;}</style><div id=\"sk-container-id-1\" class=\"sk-top-container\"><div class=\"sk-text-repr-fallback\"><pre>Pipeline(steps=[(&#x27;scaler&#x27;, StandardScaler()), (&#x27;pca&#x27;, PCA(n_components=0.95)),\n",
              "                (&#x27;lr&#x27;, LinearRegression())])</pre><b>In a Jupyter environment, please rerun this cell to show the HTML representation or trust the notebook. <br />On GitHub, the HTML representation is unable to render, please try loading this page with nbviewer.org.</b></div><div class=\"sk-container\" hidden><div class=\"sk-item sk-dashed-wrapped\"><div class=\"sk-label-container\"><div class=\"sk-label sk-toggleable\"><input class=\"sk-toggleable__control sk-hidden--visually\" id=\"sk-estimator-id-1\" type=\"checkbox\" ><label for=\"sk-estimator-id-1\" class=\"sk-toggleable__label sk-toggleable__label-arrow\">Pipeline</label><div class=\"sk-toggleable__content\"><pre>Pipeline(steps=[(&#x27;scaler&#x27;, StandardScaler()), (&#x27;pca&#x27;, PCA(n_components=0.95)),\n",
              "                (&#x27;lr&#x27;, LinearRegression())])</pre></div></div></div><div class=\"sk-serial\"><div class=\"sk-item\"><div class=\"sk-estimator sk-toggleable\"><input class=\"sk-toggleable__control sk-hidden--visually\" id=\"sk-estimator-id-2\" type=\"checkbox\" ><label for=\"sk-estimator-id-2\" class=\"sk-toggleable__label sk-toggleable__label-arrow\">StandardScaler</label><div class=\"sk-toggleable__content\"><pre>StandardScaler()</pre></div></div></div><div class=\"sk-item\"><div class=\"sk-estimator sk-toggleable\"><input class=\"sk-toggleable__control sk-hidden--visually\" id=\"sk-estimator-id-3\" type=\"checkbox\" ><label for=\"sk-estimator-id-3\" class=\"sk-toggleable__label sk-toggleable__label-arrow\">PCA</label><div class=\"sk-toggleable__content\"><pre>PCA(n_components=0.95)</pre></div></div></div><div class=\"sk-item\"><div class=\"sk-estimator sk-toggleable\"><input class=\"sk-toggleable__control sk-hidden--visually\" id=\"sk-estimator-id-4\" type=\"checkbox\" ><label for=\"sk-estimator-id-4\" class=\"sk-toggleable__label sk-toggleable__label-arrow\">LinearRegression</label><div class=\"sk-toggleable__content\"><pre>LinearRegression()</pre></div></div></div></div></div></div></div>"
            ]
          },
          "metadata": {},
          "execution_count": 6
        }
      ]
    },
    {
      "cell_type": "code",
      "source": [
        "# Evaluar rendimiento del modelo de regresión lineal con PCA en conjunto de prueba\n",
        "y_pred_pca = pca_pipeline.predict(X_test)\n",
        "mse_pca = mean_squared_error(y_test, y_pred_pca)\n",
        "r2_pca = r2_score(y_test, y_pred_pca)\n",
        "\n",
        "print(\"Rendimiento del modelo de regresión lineal con PCA:\")\n",
        "print(\"MSE:\", mse_pca)\n",
        "print(\"R-cuadrado:\", r2_pca)\n",
        "\n",
        "print(X_test[0:1])\n",
        "print(y_pred_pca[0:1])\n"
      ],
      "metadata": {
        "colab": {
          "base_uri": "https://localhost:8080/"
        },
        "id": "umAmtEuPh26H",
        "outputId": "f0026c5f-3174-4b87-f9ac-9471a31d6d07"
      },
      "execution_count": null,
      "outputs": [
        {
          "output_type": "stream",
          "name": "stdout",
          "text": [
            "Rendimiento del modelo de regresión lineal con PCA:\n",
            "MSE: 14.322020430071595\n",
            "R-cuadrado: 0.3772380999631956\n",
            "       NIR_R    NIR_S    NIR_T    NIR_U    NIR_V   NIR_W  Vis_Violet  \\\n",
            "83  2240.319  754.018  199.185  109.068  146.565  87.921     423.837   \n",
            "\n",
            "    Vis_Blue  Vis_Green  Vis_Yellow  Vis_Orange   Vis_Red  \n",
            "83   353.905    484.946     860.277    1095.734  1209.172  \n",
            "[50.14995755]\n"
          ]
        }
      ]
    },
    {
      "cell_type": "code",
      "source": [
        "# Exportar los parámetros del pipeline\n",
        "scaler_mean = scaler.mean_\n",
        "scaler_scale = scaler.scale_\n",
        "pca_components = pca.components_\n",
        "pca_mean = pca.mean_\n",
        "regression_coef = lr_pca_model.coef_\n",
        "regression_intercept = lr_pca_model.intercept_\n",
        "\n",
        "print(\"Scaler Mean:\", scaler_mean)\n",
        "print(\"Scaler Scale:\", scaler_scale)\n",
        "print(\"PCA Components:\", pca_components)\n",
        "print(\"PCA Mean:\", pca_mean)\n",
        "print(\"Regression Coefficients:\", regression_coef)\n",
        "print(\"Regression Intercept:\", regression_intercept)\n"
      ],
      "metadata": {
        "colab": {
          "base_uri": "https://localhost:8080/"
        },
        "id": "_VggcDlIp2ww",
        "outputId": "ffa68c7b-82db-4d4f-c327-1f2c36037e47"
      },
      "execution_count": null,
      "outputs": [
        {
          "output_type": "stream",
          "name": "stdout",
          "text": [
            "Scaler Mean: [2770.4822375  788.1494125  224.4562125  125.68415    184.9026375\n",
            "  105.791875   525.0081     452.1614875 1296.8736125 1677.7566875\n",
            " 1939.014425  1427.188925 ]\n",
            "Scaler Scale: [1132.73807612  302.3129269    77.77614829   41.93482105   69.82344766\n",
            "   38.78783943  200.30376211  220.80053736  967.36684327  960.46603049\n",
            "  936.11594918  514.95361525]\n",
            "PCA Components: [[ 0.31573839  0.25607869  0.27618328  0.28396705  0.3266374   0.31883357\n",
            "   0.27981434  0.28515207  0.26897175  0.27227401  0.3041765   0.26619841]\n",
            " [ 0.05550654  0.43281096  0.34708358  0.31229819  0.06250145  0.17614869\n",
            "   0.08662188 -0.33024992 -0.41567465 -0.4270582  -0.2912255  -0.01081437]\n",
            " [-0.2264626   0.14581474 -0.19661463 -0.20774012 -0.26748153 -0.13416462\n",
            "   0.50719426  0.02343123 -0.21495872 -0.1110663   0.14785894  0.64644619]\n",
            " [-0.3786383  -0.31257154  0.41882848  0.4238955  -0.19925321 -0.28980986\n",
            "   0.3927901   0.25843179  0.0456388   0.04243028 -0.09667048 -0.2140942 ]]\n",
            "PCA Mean: [ 1.44328993e-16 -1.77635684e-16 -6.10622664e-16 -6.66133815e-17\n",
            "  6.38378239e-17  6.41153797e-16 -9.15933995e-17 -8.88178420e-17\n",
            " -8.32667268e-18  2.77555756e-17  1.69309011e-16  1.33226763e-16]\n",
            "Regression Coefficients: [ 0.2740991  -2.05708955 -2.74019243  3.11187986]\n",
            "Regression Intercept: 52.30529217207767\n"
          ]
        }
      ]
    },
    {
      "cell_type": "code",
      "source": [
        "# prompt: escribir los parametros separados por ,\n",
        "\n",
        "scaler_params = ','.join(str(x) for x in scaler.mean_)\n",
        "\n",
        "pca_components_params = ','.join(str(x) for x in pca.components_)\n",
        "pca_mean_params = ','.join(str(x) for x in pca.mean_)\n",
        "regression_coef_params = ','.join(str(x) for x in lr_pca_model.coef_)\n",
        "\n",
        "\n",
        "print(\"Scaler Mean:\", scaler_params)\n",
        "\n",
        "print(\"PCA Components:\", pca_components_params)\n",
        "print(\"PCA Mean:\", pca_mean_params)\n",
        "print(\"Regression Coefficients:\", regression_coef_params)\n",
        "\n"
      ],
      "metadata": {
        "colab": {
          "base_uri": "https://localhost:8080/"
        },
        "id": "j9zoVm9u25Kk",
        "outputId": "72ec51cf-d1c5-4665-c0b3-e13de3979d4a"
      },
      "execution_count": null,
      "outputs": [
        {
          "output_type": "stream",
          "name": "stdout",
          "text": [
            "Scaler Mean: 2770.4822375,788.1494125,224.45621250000005,125.68415,184.9026375,105.79187499999998,525.0081,452.1614875,1296.8736125,1677.7566875,1939.0144249999998,1427.188925\n",
            "PCA Components: [0.31573839 0.25607869 0.27618328 0.28396705 0.3266374  0.31883357\n",
            " 0.27981434 0.28515207 0.26897175 0.27227401 0.3041765  0.26619841],[ 0.05550654  0.43281096  0.34708358  0.31229819  0.06250145  0.17614869\n",
            "  0.08662188 -0.33024992 -0.41567465 -0.4270582  -0.2912255  -0.01081437],[-0.2264626   0.14581474 -0.19661463 -0.20774012 -0.26748153 -0.13416462\n",
            "  0.50719426  0.02343123 -0.21495872 -0.1110663   0.14785894  0.64644619],[-0.3786383  -0.31257154  0.41882848  0.4238955  -0.19925321 -0.28980986\n",
            "  0.3927901   0.25843179  0.0456388   0.04243028 -0.09667048 -0.2140942 ]\n",
            "PCA Mean: 1.4432899320127036e-16,-1.7763568394002506e-16,-6.106226635438361e-16,-6.661338147750939e-17,6.38378239159465e-17,6.411537967210279e-16,-9.159339953157541e-17,-8.881784197001253e-17,-8.326672684688674e-18,2.7755575615628914e-17,1.6930901125533636e-16,1.3322676295501878e-16\n",
            "Regression Coefficients: 0.27409909977538927,-2.057089554625418,-2.740192428651572,3.111879857324115\n"
          ]
        }
      ]
    },
    {
      "cell_type": "code",
      "source": [
        "# prompt: remplazar los espacios por , y los [ por { en pca_components_params\n",
        "\n",
        "pca_components_params = pca_components_params.replace(\" \", \",\").replace(\"[\", \"{\").replace(\"]\", \"}\")\n",
        "print(\"PCA Components:\", pca_components_params)\n"
      ],
      "metadata": {
        "colab": {
          "base_uri": "https://localhost:8080/"
        },
        "id": "T4akM_YkLD8o",
        "outputId": "ff7ff06a-9704-4bcd-ec66-539945764c36"
      },
      "execution_count": null,
      "outputs": [
        {
          "output_type": "stream",
          "name": "stdout",
          "text": [
            "PCA Components: {0.31573839,0.25607869,0.27618328,0.28396705,0.3266374,,0.31883357\n",
            ",0.27981434,0.28515207,0.26897175,0.27227401,0.3041765,,0.26619841},{,0.05550654,,0.43281096,,0.34708358,,0.31229819,,0.06250145,,0.17614869\n",
            ",,0.08662188,-0.33024992,-0.41567465,-0.4270582,,-0.2912255,,-0.01081437},{-0.2264626,,,0.14581474,-0.19661463,-0.20774012,-0.26748153,-0.13416462\n",
            ",,0.50719426,,0.02343123,-0.21495872,-0.1110663,,,0.14785894,,0.64644619},{-0.3786383,,-0.31257154,,0.41882848,,0.4238955,,-0.19925321,-0.28980986\n",
            ",,0.3927901,,,0.25843179,,0.0456388,,,0.04243028,-0.09667048,-0.2140942,}\n"
          ]
        }
      ]
    },
    {
      "cell_type": "code",
      "source": [
        "# Crear el DataFrame Referencia\n",
        "y=data['°BRIX']\n",
        "X =data[['NIR_R', 'NIR_S', 'NIR_T', 'NIR_U', 'NIR_V', 'NIR_W', 'Vis_Violet', 'Vis_Blue', 'Vis_Green', 'Vis_Yellow', 'Vis_Orange', 'Vis_Red']]\n",
        "\n",
        "# Dividir los datos en conjunto de entrenamiento y conjunto de prueba\n",
        "X_train, X_test, y_train, y_test = train_test_split(X, y, test_size=0.2, random_state=42)\n",
        "\n",
        "pca = PCA(n_components=0.95)  # Mantener el 95% de la varianza explicada\n",
        "scaler = StandardScaler()\n",
        "lr_pca_model = LinearRegression()\n",
        "\n",
        "# Construir un pipeline para aplicar PCA, escalar características y luego entrenar la regresión lineal\n",
        "pca_pipeline = Pipeline([('scaler', scaler), ('pca', pca), ('lr', lr_pca_model)])\n",
        "pca_pipeline.fit(X_train, y_train)\n",
        "\n",
        "# Evaluar rendimiento del modelo de regresión lineal con PCA en conjunto de prueba\n",
        "y_pred_pca = pca_pipeline.predict(X_test)\n",
        "mse_pca = mean_squared_error(y_test, y_pred_pca)\n",
        "r2_pca = r2_score(y_test, y_pred_pca)\n",
        "\n",
        "print(\"Rendimiento del modelo de regresión lineal con PCA:\")\n",
        "print(\"MSE:\", mse_pca)\n",
        "print(\"R-cuadrado:\", r2_pca)\n",
        "\n",
        "print(X_test[0:1])\n",
        "print(y_pred_pca[0:1])\n",
        "\n",
        "# Exportar los parámetros del pipeline\n",
        "scaler_mean = scaler.mean_\n",
        "scaler_scale = scaler.scale_\n",
        "pca_components = pca.components_\n",
        "pca_mean = pca.mean_\n",
        "regression_coef = lr_pca_model.coef_\n",
        "regression_intercept = lr_pca_model.intercept_\n",
        "\n",
        "\n",
        "print(\"Scaler Scale:\", scaler_scale)\n",
        "\n",
        "print(\"Regression Intercept:\", regression_intercept)\n",
        "\n",
        "# prompt: escribir los parametros separados por ,\n",
        "\n",
        "scaler_params = ','.join(str(x) for x in scaler.mean_)\n",
        "\n",
        "pca_components_params = ','.join(str(x) for x in pca.components_)\n",
        "pca_mean_params = ','.join(str(x) for x in pca.mean_)\n",
        "regression_coef_params = ','.join(str(x) for x in lr_pca_model.coef_)\n",
        "\n",
        "\n",
        "print(\"Scaler Mean:\", scaler_params)\n",
        "print(\"PCA Mean:\", pca_mean_params)\n",
        "print(\"Regression Coefficients:\", regression_coef_params)\n",
        "# prompt: remplazar los espacios por , y los [ por { en pca_components_params\n",
        "\n",
        "pca_components_params = pca_components_params.replace(\" \", \",\").replace(\"[\", \"{\").replace(\"]\", \"}\")\n",
        "print(\"PCA Components:\", pca_components_params)"
      ],
      "metadata": {
        "colab": {
          "base_uri": "https://localhost:8080/"
        },
        "id": "4YVy2DG0MJZc",
        "outputId": "95900e93-4284-4cec-cdfc-34caa4628d1e"
      },
      "execution_count": null,
      "outputs": [
        {
          "output_type": "stream",
          "name": "stdout",
          "text": [
            "Rendimiento del modelo de regresión lineal con PCA:\n",
            "MSE: 0.30926118759480503\n",
            "R-cuadrado: 0.6691823805279365\n",
            "       NIR_R    NIR_S    NIR_T    NIR_U    NIR_V   NIR_W  Vis_Violet  \\\n",
            "83  2240.319  754.018  199.185  109.068  146.565  87.921     423.837   \n",
            "\n",
            "    Vis_Blue  Vis_Green  Vis_Yellow  Vis_Orange   Vis_Red  \n",
            "83   353.905    484.946     860.277    1095.734  1209.172  \n",
            "[8.95916708]\n",
            "Scaler Scale: [1132.73807612  302.3129269    77.77614829   41.93482105   69.82344766\n",
            "   38.78783943  200.30376211  220.80053736  967.36684327  960.46603049\n",
            "  936.11594918  514.95361525]\n",
            "Regression Intercept: 8.492744121272287\n",
            "Scaler Mean: 2770.4822375,788.1494125,224.45621250000005,125.68415,184.9026375,105.79187499999998,525.0081,452.1614875,1296.8736125,1677.7566875,1939.0144249999998,1427.188925\n",
            "PCA Mean: 1.4432899320127036e-16,-1.7763568394002506e-16,-6.106226635438361e-16,-6.661338147750939e-17,6.38378239159465e-17,6.411537967210279e-16,-9.159339953157541e-17,-8.881784197001253e-17,-8.326672684688674e-18,2.7755575615628914e-17,1.6930901125533636e-16,1.3322676295501878e-16\n",
            "Regression Coefficients: -0.042513493715848304,0.5325317771062786,0.5459164023245007,-0.25464638379088983\n",
            "PCA Components: {0.31573839,0.25607869,0.27618328,0.28396705,0.3266374,,0.31883357\n",
            ",0.27981434,0.28515207,0.26897175,0.27227401,0.3041765,,0.26619841},{,0.05550654,,0.43281096,,0.34708358,,0.31229819,,0.06250145,,0.17614869\n",
            ",,0.08662188,-0.33024992,-0.41567465,-0.4270582,,-0.2912255,,-0.01081437},{-0.2264626,,,0.14581474,-0.19661463,-0.20774012,-0.26748153,-0.13416462\n",
            ",,0.50719426,,0.02343123,-0.21495872,-0.1110663,,,0.14785894,,0.64644619},{-0.3786383,,-0.31257154,,0.41882848,,0.4238955,,-0.19925321,-0.28980986\n",
            ",,0.3927901,,,0.25843179,,0.0456388,,,0.04243028,-0.09667048,-0.2140942,}\n"
          ]
        }
      ]
    },
    {
      "cell_type": "code",
      "source": [
        "# prompt: Realizar lo anterior pero con variables para pH\n",
        "\n",
        "import numpy as np\n",
        "import pandas as pd\n",
        "from sklearn.model_selection import train_test_split\n",
        "from sklearn.linear_model import LinearRegression\n",
        "from sklearn.decomposition import PCA\n",
        "from sklearn.preprocessing import StandardScaler\n",
        "from sklearn.pipeline import Pipeline\n",
        "from sklearn.metrics import mean_squared_error, r2_score\n",
        "from google.colab import drive\n",
        "drive.mount('/content/drive')\n",
        "# Cargar tu conjunto de datos\n",
        "data = pd.read_csv(\"/content/drive/My Drive/Tesis/Dataset/nuevo_dataset_prueba.csv\")\n",
        "\n",
        "# Crear el DataFrame Referencia\n",
        "y = data['pH']\n",
        "X =data[['NIR_R', 'NIR_S', 'NIR_T', 'NIR_U', 'NIR_V', 'NIR_W', 'Vis_Violet', 'Vis_Blue', 'Vis_Green', 'Vis_Yellow', 'Vis_Orange', 'Vis_Red']]\n",
        "\n",
        "# Dividir los datos en conjunto de entrenamiento y conjunto de prueba\n",
        "X_train, X_test, y_train, y_test = train_test_split(X, y, test_size=0.2, random_state=42)\n",
        "\n",
        "pca = PCA(n_components=0.95)  # Mantener el 95% de la varianza explicada\n",
        "scaler = StandardScaler()\n",
        "lr_pca_model = LinearRegression()\n",
        "\n",
        "# Construir un pipeline para aplicar PCA, escalar características y luego entrenar la regresión lineal\n",
        "pca_pipeline = Pipeline([('scaler', scaler), ('pca', pca), ('lr', lr_pca_model)])\n",
        "pca_pipeline.fit(X_train, y_train)\n",
        "\n",
        "# Evaluar rendimiento del modelo de regresión lineal con PCA en conjunto de prueba\n",
        "y_pred_pca = pca_pipeline.predict(X_test)\n",
        "mse_pca = mean_squared_error(y_test, y_pred_pca)\n",
        "r2_pca = r2_score(y_test, y_pred_pca)\n",
        "\n",
        "print(\"Rendimiento del modelo de regresión lineal con PCA para pH:\")\n",
        "print(\"MSE:\", mse_pca)\n",
        "print(\"R-cuadrado:\", r2_pca)\n",
        "\n",
        "print(X_test[0:1])\n",
        "print(y_pred_pca[0:1])\n",
        "\n",
        "# Exportar los parámetros del pipeline\n",
        "scaler_mean = scaler.mean_\n",
        "scaler_scale = scaler.scale_\n",
        "pca_components = pca.components_\n",
        "pca_mean = pca.mean_\n",
        "regression_coef = lr_pca_model.coef_\n",
        "regression_intercept = lr_pca_model.intercept_\n",
        "\n",
        "print(\"Scaler Mean:\", scaler_mean)\n",
        "print(\"Scaler Scale:\", scaler_scale)\n",
        "print(\"PCA Components:\", pca_components)\n",
        "print(\"PCA Mean:\", pca_mean)\n",
        "print(\"Regression Coefficients:\", regression_coef)\n",
        "print(\"Regression Intercept:\", regression_intercept)\n",
        "\n",
        "\n",
        "scaler_params = ','.join(str(x) for x in scaler.mean_)\n",
        "\n",
        "pca_components_params = ','.join(str(x) for x in pca.components_)\n",
        "pca_mean_params = ','.join(str(x) for x in pca.mean_)\n",
        "regression_coef_params = ','.join(str(x) for x in lr_pca_model.coef_)\n",
        "\n",
        "\n",
        "print(\"Scaler Mean:\", scaler_params)\n",
        "\n",
        "print(\"PCA Components:\", pca_components_params)\n",
        "print(\"PCA Mean:\", pca_mean_params)\n",
        "print(\"Regression Coefficients:\", regression_coef_params)\n",
        "\n",
        "\n",
        "\n",
        "pca_components_params = pca_components_params.replace(\" \", \",\").replace(\"[\", \"{\").replace(\"]\", \"}\")\n",
        "print(\"PCA Components:\", pca_components_params)\n"
      ],
      "metadata": {
        "colab": {
          "base_uri": "https://localhost:8080/"
        },
        "id": "fhp7qemB8LNi",
        "outputId": "8e70b6cc-1734-4304-b003-aaa550c0b47b"
      },
      "execution_count": null,
      "outputs": [
        {
          "output_type": "stream",
          "name": "stdout",
          "text": [
            "Drive already mounted at /content/drive; to attempt to forcibly remount, call drive.mount(\"/content/drive\", force_remount=True).\n",
            "Rendimiento del modelo de regresión lineal con PCA para pH:\n",
            "MSE: 0.016431069494937382\n",
            "R-cuadrado: 0.5468883146426708\n",
            "       NIR_R    NIR_S    NIR_T    NIR_U    NIR_V   NIR_W  Vis_Violet  \\\n",
            "83  2240.319  754.018  199.185  109.068  146.565  87.921     423.837   \n",
            "\n",
            "    Vis_Blue  Vis_Green  Vis_Yellow  Vis_Orange   Vis_Red  \n",
            "83   353.905    484.946     860.277    1095.734  1209.172  \n",
            "[6.55872494]\n",
            "Scaler Mean: [2770.4822375  788.1494125  224.4562125  125.68415    184.9026375\n",
            "  105.791875   525.0081     452.1614875 1296.8736125 1677.7566875\n",
            " 1939.014425  1427.188925 ]\n",
            "Scaler Scale: [1132.73807612  302.3129269    77.77614829   41.93482105   69.82344766\n",
            "   38.78783943  200.30376211  220.80053736  967.36684327  960.46603049\n",
            "  936.11594918  514.95361525]\n",
            "PCA Components: [[ 0.31573839  0.25607869  0.27618328  0.28396705  0.3266374   0.31883357\n",
            "   0.27981434  0.28515207  0.26897175  0.27227401  0.3041765   0.26619841]\n",
            " [ 0.05550654  0.43281096  0.34708358  0.31229819  0.06250145  0.17614869\n",
            "   0.08662188 -0.33024992 -0.41567465 -0.4270582  -0.2912255  -0.01081437]\n",
            " [-0.2264626   0.14581474 -0.19661463 -0.20774012 -0.26748153 -0.13416462\n",
            "   0.50719426  0.02343123 -0.21495872 -0.1110663   0.14785894  0.64644619]\n",
            " [-0.3786383  -0.31257154  0.41882848  0.4238955  -0.19925321 -0.28980986\n",
            "   0.3927901   0.25843179  0.0456388   0.04243028 -0.09667048 -0.2140942 ]]\n",
            "PCA Mean: [ 1.44328993e-16 -1.77635684e-16 -6.10622664e-16 -6.66133815e-17\n",
            "  6.38378239e-17  6.41153797e-16 -9.15933995e-17 -8.88178420e-17\n",
            " -8.32667268e-18  2.77555756e-17  1.69309011e-16  1.33226763e-16]\n",
            "Regression Coefficients: [-0.0052297   0.06703442  0.07444987 -0.10938202]\n",
            "Regression Intercept: 6.495431260712112\n",
            "Scaler Mean: 2770.4822375,788.1494125,224.45621250000005,125.68415,184.9026375,105.79187499999998,525.0081,452.1614875,1296.8736125,1677.7566875,1939.0144249999998,1427.188925\n",
            "PCA Components: [0.31573839 0.25607869 0.27618328 0.28396705 0.3266374  0.31883357\n",
            " 0.27981434 0.28515207 0.26897175 0.27227401 0.3041765  0.26619841],[ 0.05550654  0.43281096  0.34708358  0.31229819  0.06250145  0.17614869\n",
            "  0.08662188 -0.33024992 -0.41567465 -0.4270582  -0.2912255  -0.01081437],[-0.2264626   0.14581474 -0.19661463 -0.20774012 -0.26748153 -0.13416462\n",
            "  0.50719426  0.02343123 -0.21495872 -0.1110663   0.14785894  0.64644619],[-0.3786383  -0.31257154  0.41882848  0.4238955  -0.19925321 -0.28980986\n",
            "  0.3927901   0.25843179  0.0456388   0.04243028 -0.09667048 -0.2140942 ]\n",
            "PCA Mean: 1.4432899320127036e-16,-1.7763568394002506e-16,-6.106226635438361e-16,-6.661338147750939e-17,6.38378239159465e-17,6.411537967210279e-16,-9.159339953157541e-17,-8.881784197001253e-17,-8.326672684688674e-18,2.7755575615628914e-17,1.6930901125533636e-16,1.3322676295501878e-16\n",
            "Regression Coefficients: -0.005229696947034464,0.06703442089683032,0.074449866941172,-0.10938202412320695\n",
            "PCA Components: {0.31573839,0.25607869,0.27618328,0.28396705,0.3266374,,0.31883357\n",
            ",0.27981434,0.28515207,0.26897175,0.27227401,0.3041765,,0.26619841},{,0.05550654,,0.43281096,,0.34708358,,0.31229819,,0.06250145,,0.17614869\n",
            ",,0.08662188,-0.33024992,-0.41567465,-0.4270582,,-0.2912255,,-0.01081437},{-0.2264626,,,0.14581474,-0.19661463,-0.20774012,-0.26748153,-0.13416462\n",
            ",,0.50719426,,0.02343123,-0.21495872,-0.1110663,,,0.14785894,,0.64644619},{-0.3786383,,-0.31257154,,0.41882848,,0.4238955,,-0.19925321,-0.28980986\n",
            ",,0.3927901,,,0.25843179,,0.0456388,,,0.04243028,-0.09667048,-0.2140942,}\n"
          ]
        }
      ]
    },
    {
      "cell_type": "code",
      "source": [
        "# prompt: Realizar lo anterior pero con variables para IM\n",
        "\n",
        "import numpy as np\n",
        "import pandas as pd\n",
        "from sklearn.model_selection import train_test_split\n",
        "from sklearn.linear_model import LinearRegression\n",
        "from sklearn.decomposition import PCA\n",
        "from sklearn.preprocessing import StandardScaler\n",
        "from sklearn.pipeline import Pipeline\n",
        "from sklearn.metrics import mean_squared_error, r2_score\n",
        "from google.colab import drive\n",
        "drive.mount('/content/drive')\n",
        "# Cargar tu conjunto de datos\n",
        "data = pd.read_csv(\"/content/drive/My Drive/Tesis/Dataset/nuevo_dataset_prueba.csv\")\n",
        "\n",
        "# Crear el DataFrame Referencia\n",
        "y = data['IM']\n",
        "X =data[['NIR_R', 'NIR_S', 'NIR_T', 'NIR_U', 'NIR_V', 'NIR_W', 'Vis_Violet', 'Vis_Blue', 'Vis_Green', 'Vis_Yellow', 'Vis_Orange', 'Vis_Red']]\n",
        "\n",
        "# Dividir los datos en conjunto de entrenamiento y conjunto de prueba\n",
        "X_train, X_test, y_train, y_test = train_test_split(X, y, test_size=0.2, random_state=42)\n",
        "\n",
        "pca = PCA(n_components=0.95)  # Mantener el 95% de la varianza explicada\n",
        "scaler = StandardScaler()\n",
        "lr_pca_model = LinearRegression()\n",
        "\n",
        "# Construir un pipeline para aplicar PCA, escalar características y luego entrenar la regresión lineal\n",
        "pca_pipeline = Pipeline([('scaler', scaler), ('pca', pca), ('lr', lr_pca_model)])\n",
        "pca_pipeline.fit(X_train, y_train)\n",
        "\n",
        "# Evaluar rendimiento del modelo de regresión lineal con PCA en conjunto de prueba\n",
        "y_pred_pca = pca_pipeline.predict(X_test)\n",
        "mse_pca = mean_squared_error(y_test, y_pred_pca)\n",
        "r2_pca = r2_score(y_test, y_pred_pca)\n",
        "\n",
        "print(\"Rendimiento del modelo de regresión lineal con PCA para IM:\")\n",
        "print(\"MSE:\", mse_pca)\n",
        "print(\"R-cuadrado:\", r2_pca)\n",
        "\n",
        "print(X_test[0:1])\n",
        "print(y_pred_pca[0:1])\n",
        "\n",
        "# Exportar los parámetros del pipeline\n",
        "scaler_mean = scaler.mean_\n",
        "scaler_scale = scaler.scale_\n",
        "pca_components = pca.components_\n",
        "pca_mean = pca.mean_\n",
        "regression_coef = lr_pca_model.coef_\n",
        "regression_intercept = lr_pca_model.intercept_\n",
        "\n",
        "print(\"Scaler Mean:\", scaler_mean)\n",
        "print(\"Scaler Scale:\", scaler_scale)\n",
        "print(\"PCA Components:\", pca_components)\n",
        "print(\"PCA Mean:\", pca_mean)\n",
        "print(\"Regression Coefficients:\", regression_coef)\n",
        "print(\"Regression Intercept:\", regression_intercept)\n",
        "\n",
        "\n",
        "scaler_params = ','.join(str(x) for x in scaler.mean_)\n",
        "\n",
        "pca_components_params = ','.join(str(x) for x in pca.components_)\n",
        "pca_mean_params = ','.join(str(x) for x in pca.mean_)\n",
        "regression_coef_params = ','.join(str(x) for x in lr_pca_model.coef_)\n",
        "\n",
        "\n",
        "print(\"Scaler Mean:\", scaler_params)\n",
        "\n",
        "print(\"PCA Components:\", pca_components_params)\n",
        "print(\"PCA Mean:\", pca_mean_params)\n",
        "print(\"Regression Coefficients:\", regression_coef_params)\n",
        "\n",
        "\n",
        "\n",
        "pca_components_params = pca_components_params.replace(\" \", \",\").replace(\"[\", \"{\").replace(\"]\", \"}\")\n",
        "print(\"PCA Components:\", pca_components_params)\n"
      ],
      "metadata": {
        "colab": {
          "base_uri": "https://localhost:8080/"
        },
        "id": "bovXLUTd8tTw",
        "outputId": "c5c8df4c-1d6a-4304-b51d-d0ff241ef821"
      },
      "execution_count": null,
      "outputs": [
        {
          "output_type": "stream",
          "name": "stdout",
          "text": [
            "Drive already mounted at /content/drive; to attempt to forcibly remount, call drive.mount(\"/content/drive\", force_remount=True).\n",
            "Rendimiento del modelo de regresión lineal con PCA para IM:\n",
            "MSE: 23.533550182798955\n",
            "R-cuadrado: 0.5697563478402753\n",
            "       NIR_R    NIR_S    NIR_T    NIR_U    NIR_V   NIR_W  Vis_Violet  \\\n",
            "83  2240.319  754.018  199.185  109.068  146.565  87.921     423.837   \n",
            "\n",
            "    Vis_Blue  Vis_Green  Vis_Yellow  Vis_Orange   Vis_Red  \n",
            "83   353.905    484.946     860.277    1095.734  1209.172  \n",
            "[50.90247473]\n",
            "Scaler Mean: [2770.4822375  788.1494125  224.4562125  125.68415    184.9026375\n",
            "  105.791875   525.0081     452.1614875 1296.8736125 1677.7566875\n",
            " 1939.014425  1427.188925 ]\n",
            "Scaler Scale: [1132.73807612  302.3129269    77.77614829   41.93482105   69.82344766\n",
            "   38.78783943  200.30376211  220.80053736  967.36684327  960.46603049\n",
            "  936.11594918  514.95361525]\n",
            "PCA Components: [[ 0.31573839  0.25607869  0.27618328  0.28396705  0.3266374   0.31883357\n",
            "   0.27981434  0.28515207  0.26897175  0.27227401  0.3041765   0.26619841]\n",
            " [ 0.05550654  0.43281096  0.34708358  0.31229819  0.06250145  0.17614869\n",
            "   0.08662188 -0.33024992 -0.41567465 -0.4270582  -0.2912255  -0.01081437]\n",
            " [-0.2264626   0.14581474 -0.19661463 -0.20774012 -0.26748153 -0.13416462\n",
            "   0.50719426  0.02343123 -0.21495872 -0.1110663   0.14785894  0.64644619]\n",
            " [-0.3786383  -0.31257154  0.41882848  0.4238955  -0.19925321 -0.28980986\n",
            "   0.3927901   0.25843179  0.0456388   0.04243028 -0.09667048 -0.2140942 ]]\n",
            "PCA Mean: [ 1.44328993e-16 -1.77635684e-16 -6.10622664e-16 -6.66133815e-17\n",
            "  6.38378239e-17  6.41153797e-16 -9.15933995e-17 -8.88178420e-17\n",
            " -8.32667268e-18  2.77555756e-17  1.69309011e-16  1.33226763e-16]\n",
            "Regression Coefficients: [-0.33109285  5.67414019  5.52946097  0.26374602]\n",
            "Regression Intercept: 46.34221962456831\n",
            "Scaler Mean: 2770.4822375,788.1494125,224.45621250000005,125.68415,184.9026375,105.79187499999998,525.0081,452.1614875,1296.8736125,1677.7566875,1939.0144249999998,1427.188925\n",
            "PCA Components: [0.31573839 0.25607869 0.27618328 0.28396705 0.3266374  0.31883357\n",
            " 0.27981434 0.28515207 0.26897175 0.27227401 0.3041765  0.26619841],[ 0.05550654  0.43281096  0.34708358  0.31229819  0.06250145  0.17614869\n",
            "  0.08662188 -0.33024992 -0.41567465 -0.4270582  -0.2912255  -0.01081437],[-0.2264626   0.14581474 -0.19661463 -0.20774012 -0.26748153 -0.13416462\n",
            "  0.50719426  0.02343123 -0.21495872 -0.1110663   0.14785894  0.64644619],[-0.3786383  -0.31257154  0.41882848  0.4238955  -0.19925321 -0.28980986\n",
            "  0.3927901   0.25843179  0.0456388   0.04243028 -0.09667048 -0.2140942 ]\n",
            "PCA Mean: 1.4432899320127036e-16,-1.7763568394002506e-16,-6.106226635438361e-16,-6.661338147750939e-17,6.38378239159465e-17,6.411537967210279e-16,-9.159339953157541e-17,-8.881784197001253e-17,-8.326672684688674e-18,2.7755575615628914e-17,1.6930901125533636e-16,1.3322676295501878e-16\n",
            "Regression Coefficients: -0.3310928498074423,5.674140189857234,5.529460965387396,0.26374602047115203\n",
            "PCA Components: {0.31573839,0.25607869,0.27618328,0.28396705,0.3266374,,0.31883357\n",
            ",0.27981434,0.28515207,0.26897175,0.27227401,0.3041765,,0.26619841},{,0.05550654,,0.43281096,,0.34708358,,0.31229819,,0.06250145,,0.17614869\n",
            ",,0.08662188,-0.33024992,-0.41567465,-0.4270582,,-0.2912255,,-0.01081437},{-0.2264626,,,0.14581474,-0.19661463,-0.20774012,-0.26748153,-0.13416462\n",
            ",,0.50719426,,0.02343123,-0.21495872,-0.1110663,,,0.14785894,,0.64644619},{-0.3786383,,-0.31257154,,0.41882848,,0.4238955,,-0.19925321,-0.28980986\n",
            ",,0.3927901,,,0.25843179,,0.0456388,,,0.04243028,-0.09667048,-0.2140942,}\n"
          ]
        }
      ]
    }
  ]
}
